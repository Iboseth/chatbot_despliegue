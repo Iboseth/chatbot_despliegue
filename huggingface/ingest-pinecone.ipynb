{
 "cells": [
  {
   "cell_type": "markdown",
   "metadata": {},
   "source": [
    "# Ingestando embeddings a Pinecone"
   ]
  },
  {
   "cell_type": "code",
   "execution_count": 1,
   "metadata": {},
   "outputs": [],
   "source": [
    "%%capture\n",
    "!pip install pinecone\n",
    "!pip install tiktoken"
   ]
  },
  {
   "cell_type": "code",
   "execution_count": 2,
   "metadata": {},
   "outputs": [],
   "source": [
    "# import pinecone\n",
    "from pinecone import Pinecone, ServerlessSpec\n",
    "import os, getpass\n",
    "import tiktoken"
   ]
  },
  {
   "cell_type": "code",
   "execution_count": 3,
   "metadata": {},
   "outputs": [],
   "source": [
    "api_key = getpass.getpass(\"Ingresa tu API Key de Pinecone : \")"
   ]
  },
  {
   "cell_type": "markdown",
   "metadata": {},
   "source": [
    "## Creando un index en Pinecone"
   ]
  },
  {
   "cell_type": "code",
   "execution_count": 4,
   "metadata": {},
   "outputs": [
    {
     "name": "stdout",
     "output_type": "stream",
     "text": [
      "✅ Índice 'knowledge-base-eliminatorias' creado correctamente.\n"
     ]
    }
   ],
   "source": [
    "index_name = \"knowledge-base-eliminatorias\"\n",
    "dimension = 1536\n",
    "\n",
    "# Conectarse con la única región permitida\n",
    "pc = Pinecone(api_key=api_key)\n",
    "\n",
    "if index_name not in [idx.name for idx in pc.list_indexes()]:\n",
    "    pc.create_index(\n",
    "        name=index_name,\n",
    "        dimension=dimension,\n",
    "        metric=\"cosine\",\n",
    "        spec=ServerlessSpec(\n",
    "            cloud=\"aws\",          # ✅ Solo AWS\n",
    "            region=\"us-east-1\"    # ✅ Solo us-east-1\n",
    "        )\n",
    "    )\n",
    "    print(f\"✅ Índice '{index_name}' creado correctamente.\")\n",
    "else:\n",
    "    print(f\"ℹ️ El índice '{index_name}' ya existe.\")\n"
   ]
  },
  {
   "cell_type": "markdown",
   "metadata": {},
   "source": [
    "## Generando fragmentos de sitios web"
   ]
  },
  {
   "cell_type": "markdown",
   "metadata": {},
   "source": [
    "![Imagen](https://imgmedia.larepublica.pe/640x371/larepublica/original/2023/10/17/652f24917388f967a923a805.webp)"
   ]
  },
  {
   "cell_type": "code",
   "execution_count": 8,
   "metadata": {},
   "outputs": [
    {
     "name": "stdout",
     "output_type": "stream",
     "text": [
      "Collecting langchain-community\n",
      "  Downloading langchain_community-0.3.25-py3-none-any.whl.metadata (2.9 kB)\n",
      "Requirement already satisfied: langchain-core<1.0.0,>=0.3.65 in /usr/local/python/3.12.1/lib/python3.12/site-packages (from langchain-community) (0.3.65)\n",
      "Requirement already satisfied: langchain<1.0.0,>=0.3.25 in /usr/local/python/3.12.1/lib/python3.12/site-packages (from langchain-community) (0.3.25)\n",
      "Requirement already satisfied: SQLAlchemy<3,>=1.4 in /usr/local/python/3.12.1/lib/python3.12/site-packages (from langchain-community) (2.0.41)\n",
      "Requirement already satisfied: requests<3,>=2 in /home/codespace/.local/lib/python3.12/site-packages (from langchain-community) (2.32.3)\n",
      "Requirement already satisfied: PyYAML>=5.3 in /home/codespace/.local/lib/python3.12/site-packages (from langchain-community) (6.0.2)\n",
      "Collecting aiohttp<4.0.0,>=3.8.3 (from langchain-community)\n",
      "  Downloading aiohttp-3.12.13-cp312-cp312-manylinux_2_17_x86_64.manylinux2014_x86_64.whl.metadata (7.6 kB)\n",
      "Requirement already satisfied: tenacity!=8.4.0,<10,>=8.1.0 in /usr/local/python/3.12.1/lib/python3.12/site-packages (from langchain-community) (9.1.2)\n",
      "Collecting dataclasses-json<0.7,>=0.5.7 (from langchain-community)\n",
      "  Downloading dataclasses_json-0.6.7-py3-none-any.whl.metadata (25 kB)\n",
      "Collecting pydantic-settings<3.0.0,>=2.4.0 (from langchain-community)\n",
      "  Downloading pydantic_settings-2.9.1-py3-none-any.whl.metadata (3.8 kB)\n",
      "Requirement already satisfied: langsmith<0.4,>=0.1.125 in /usr/local/python/3.12.1/lib/python3.12/site-packages (from langchain-community) (0.3.45)\n",
      "Collecting httpx-sse<1.0.0,>=0.4.0 (from langchain-community)\n",
      "  Downloading httpx_sse-0.4.0-py3-none-any.whl.metadata (9.0 kB)\n",
      "Requirement already satisfied: numpy>=1.26.2 in /home/codespace/.local/lib/python3.12/site-packages (from langchain-community) (2.2.6)\n",
      "Collecting aiohappyeyeballs>=2.5.0 (from aiohttp<4.0.0,>=3.8.3->langchain-community)\n",
      "  Downloading aiohappyeyeballs-2.6.1-py3-none-any.whl.metadata (5.9 kB)\n",
      "Collecting aiosignal>=1.1.2 (from aiohttp<4.0.0,>=3.8.3->langchain-community)\n",
      "  Downloading aiosignal-1.3.2-py2.py3-none-any.whl.metadata (3.8 kB)\n",
      "Requirement already satisfied: attrs>=17.3.0 in /home/codespace/.local/lib/python3.12/site-packages (from aiohttp<4.0.0,>=3.8.3->langchain-community) (25.3.0)\n",
      "Collecting frozenlist>=1.1.1 (from aiohttp<4.0.0,>=3.8.3->langchain-community)\n",
      "  Downloading frozenlist-1.7.0-cp312-cp312-manylinux_2_5_x86_64.manylinux1_x86_64.manylinux_2_17_x86_64.manylinux2014_x86_64.whl.metadata (18 kB)\n",
      "Collecting multidict<7.0,>=4.5 (from aiohttp<4.0.0,>=3.8.3->langchain-community)\n",
      "  Downloading multidict-6.5.0-cp312-cp312-manylinux_2_17_x86_64.manylinux2014_x86_64.whl.metadata (5.3 kB)\n",
      "Collecting propcache>=0.2.0 (from aiohttp<4.0.0,>=3.8.3->langchain-community)\n",
      "  Downloading propcache-0.3.2-cp312-cp312-manylinux_2_17_x86_64.manylinux2014_x86_64.whl.metadata (12 kB)\n",
      "Collecting yarl<2.0,>=1.17.0 (from aiohttp<4.0.0,>=3.8.3->langchain-community)\n",
      "  Downloading yarl-1.20.1-cp312-cp312-manylinux_2_17_x86_64.manylinux2014_x86_64.whl.metadata (73 kB)\n",
      "Collecting marshmallow<4.0.0,>=3.18.0 (from dataclasses-json<0.7,>=0.5.7->langchain-community)\n",
      "  Downloading marshmallow-3.26.1-py3-none-any.whl.metadata (7.3 kB)\n",
      "Collecting typing-inspect<1,>=0.4.0 (from dataclasses-json<0.7,>=0.5.7->langchain-community)\n",
      "  Downloading typing_inspect-0.9.0-py3-none-any.whl.metadata (1.5 kB)\n",
      "Requirement already satisfied: langchain-text-splitters<1.0.0,>=0.3.8 in /usr/local/python/3.12.1/lib/python3.12/site-packages (from langchain<1.0.0,>=0.3.25->langchain-community) (0.3.8)\n",
      "Requirement already satisfied: pydantic<3.0.0,>=2.7.4 in /usr/local/python/3.12.1/lib/python3.12/site-packages (from langchain<1.0.0,>=0.3.25->langchain-community) (2.11.7)\n",
      "Requirement already satisfied: jsonpatch<2.0,>=1.33 in /usr/local/python/3.12.1/lib/python3.12/site-packages (from langchain-core<1.0.0,>=0.3.65->langchain-community) (1.33)\n",
      "Requirement already satisfied: packaging<25,>=23.2 in /usr/local/python/3.12.1/lib/python3.12/site-packages (from langchain-core<1.0.0,>=0.3.65->langchain-community) (24.2)\n",
      "Requirement already satisfied: typing-extensions>=4.7 in /home/codespace/.local/lib/python3.12/site-packages (from langchain-core<1.0.0,>=0.3.65->langchain-community) (4.13.2)\n",
      "Requirement already satisfied: jsonpointer>=1.9 in /home/codespace/.local/lib/python3.12/site-packages (from jsonpatch<2.0,>=1.33->langchain-core<1.0.0,>=0.3.65->langchain-community) (3.0.0)\n",
      "Requirement already satisfied: httpx<1,>=0.23.0 in /home/codespace/.local/lib/python3.12/site-packages (from langsmith<0.4,>=0.1.125->langchain-community) (0.28.1)\n",
      "Requirement already satisfied: orjson<4.0.0,>=3.9.14 in /usr/local/python/3.12.1/lib/python3.12/site-packages (from langsmith<0.4,>=0.1.125->langchain-community) (3.10.18)\n",
      "Requirement already satisfied: requests-toolbelt<2.0.0,>=1.0.0 in /usr/local/python/3.12.1/lib/python3.12/site-packages (from langsmith<0.4,>=0.1.125->langchain-community) (1.0.0)\n",
      "Requirement already satisfied: zstandard<0.24.0,>=0.23.0 in /usr/local/python/3.12.1/lib/python3.12/site-packages (from langsmith<0.4,>=0.1.125->langchain-community) (0.23.0)\n",
      "Requirement already satisfied: anyio in /home/codespace/.local/lib/python3.12/site-packages (from httpx<1,>=0.23.0->langsmith<0.4,>=0.1.125->langchain-community) (4.9.0)\n",
      "Requirement already satisfied: certifi in /home/codespace/.local/lib/python3.12/site-packages (from httpx<1,>=0.23.0->langsmith<0.4,>=0.1.125->langchain-community) (2025.4.26)\n",
      "Requirement already satisfied: httpcore==1.* in /home/codespace/.local/lib/python3.12/site-packages (from httpx<1,>=0.23.0->langsmith<0.4,>=0.1.125->langchain-community) (1.0.9)\n",
      "Requirement already satisfied: idna in /home/codespace/.local/lib/python3.12/site-packages (from httpx<1,>=0.23.0->langsmith<0.4,>=0.1.125->langchain-community) (3.10)\n",
      "Requirement already satisfied: h11>=0.16 in /home/codespace/.local/lib/python3.12/site-packages (from httpcore==1.*->httpx<1,>=0.23.0->langsmith<0.4,>=0.1.125->langchain-community) (0.16.0)\n",
      "Requirement already satisfied: annotated-types>=0.6.0 in /usr/local/python/3.12.1/lib/python3.12/site-packages (from pydantic<3.0.0,>=2.7.4->langchain<1.0.0,>=0.3.25->langchain-community) (0.7.0)\n",
      "Requirement already satisfied: pydantic-core==2.33.2 in /usr/local/python/3.12.1/lib/python3.12/site-packages (from pydantic<3.0.0,>=2.7.4->langchain<1.0.0,>=0.3.25->langchain-community) (2.33.2)\n",
      "Requirement already satisfied: typing-inspection>=0.4.0 in /usr/local/python/3.12.1/lib/python3.12/site-packages (from pydantic<3.0.0,>=2.7.4->langchain<1.0.0,>=0.3.25->langchain-community) (0.4.1)\n",
      "Collecting python-dotenv>=0.21.0 (from pydantic-settings<3.0.0,>=2.4.0->langchain-community)\n",
      "  Downloading python_dotenv-1.1.0-py3-none-any.whl.metadata (24 kB)\n",
      "Requirement already satisfied: charset-normalizer<4,>=2 in /home/codespace/.local/lib/python3.12/site-packages (from requests<3,>=2->langchain-community) (3.4.2)\n",
      "Requirement already satisfied: urllib3<3,>=1.21.1 in /home/codespace/.local/lib/python3.12/site-packages (from requests<3,>=2->langchain-community) (2.4.0)\n",
      "Requirement already satisfied: greenlet>=1 in /usr/local/python/3.12.1/lib/python3.12/site-packages (from SQLAlchemy<3,>=1.4->langchain-community) (3.2.3)\n",
      "Collecting mypy-extensions>=0.3.0 (from typing-inspect<1,>=0.4.0->dataclasses-json<0.7,>=0.5.7->langchain-community)\n",
      "  Downloading mypy_extensions-1.1.0-py3-none-any.whl.metadata (1.1 kB)\n",
      "Requirement already satisfied: sniffio>=1.1 in /home/codespace/.local/lib/python3.12/site-packages (from anyio->httpx<1,>=0.23.0->langsmith<0.4,>=0.1.125->langchain-community) (1.3.1)\n",
      "Downloading langchain_community-0.3.25-py3-none-any.whl (2.5 MB)\n",
      "\u001b[2K   \u001b[90m━━━━━━━━━━━━━━━━━━━━━━━━━━━━━━━━━━━━━━━━\u001b[0m \u001b[32m2.5/2.5 MB\u001b[0m \u001b[31m38.6 MB/s\u001b[0m eta \u001b[36m0:00:00\u001b[0m\n",
      "\u001b[?25hDownloading aiohttp-3.12.13-cp312-cp312-manylinux_2_17_x86_64.manylinux2014_x86_64.whl (1.7 MB)\n",
      "\u001b[2K   \u001b[90m━━━━━━━━━━━━━━━━━━━━━━━━━━━━━━━━━━━━━━━━\u001b[0m \u001b[32m1.7/1.7 MB\u001b[0m \u001b[31m46.0 MB/s\u001b[0m eta \u001b[36m0:00:00\u001b[0m\n",
      "\u001b[?25hDownloading dataclasses_json-0.6.7-py3-none-any.whl (28 kB)\n",
      "Downloading httpx_sse-0.4.0-py3-none-any.whl (7.8 kB)\n",
      "Downloading marshmallow-3.26.1-py3-none-any.whl (50 kB)\n",
      "Downloading multidict-6.5.0-cp312-cp312-manylinux_2_17_x86_64.manylinux2014_x86_64.whl (237 kB)\n",
      "Downloading pydantic_settings-2.9.1-py3-none-any.whl (44 kB)\n",
      "Downloading typing_inspect-0.9.0-py3-none-any.whl (8.8 kB)\n",
      "Downloading yarl-1.20.1-cp312-cp312-manylinux_2_17_x86_64.manylinux2014_x86_64.whl (355 kB)\n",
      "Downloading aiohappyeyeballs-2.6.1-py3-none-any.whl (15 kB)\n",
      "Downloading aiosignal-1.3.2-py2.py3-none-any.whl (7.6 kB)\n",
      "Downloading frozenlist-1.7.0-cp312-cp312-manylinux_2_5_x86_64.manylinux1_x86_64.manylinux_2_17_x86_64.manylinux2014_x86_64.whl (241 kB)\n",
      "Downloading mypy_extensions-1.1.0-py3-none-any.whl (5.0 kB)\n",
      "Downloading propcache-0.3.2-cp312-cp312-manylinux_2_17_x86_64.manylinux2014_x86_64.whl (224 kB)\n",
      "Downloading python_dotenv-1.1.0-py3-none-any.whl (20 kB)\n",
      "Installing collected packages: python-dotenv, propcache, mypy-extensions, multidict, marshmallow, httpx-sse, frozenlist, aiohappyeyeballs, yarl, typing-inspect, aiosignal, pydantic-settings, dataclasses-json, aiohttp, langchain-community\n",
      "\u001b[2K   \u001b[90m━━━━━━━━━━━━━━━━━━━━━━━━━━━━━━━━━━━━━━━━\u001b[0m \u001b[32m15/15\u001b[0m [langchain-community]ngchain-community]\n",
      "\u001b[1A\u001b[2KSuccessfully installed aiohappyeyeballs-2.6.1 aiohttp-3.12.13 aiosignal-1.3.2 dataclasses-json-0.6.7 frozenlist-1.7.0 httpx-sse-0.4.0 langchain-community-0.3.25 marshmallow-3.26.1 multidict-6.5.0 mypy-extensions-1.1.0 propcache-0.3.2 pydantic-settings-2.9.1 python-dotenv-1.1.0 typing-inspect-0.9.0 yarl-1.20.1\n"
     ]
    }
   ],
   "source": [
    "!pip install -U langchain-community"
   ]
  },
  {
   "cell_type": "code",
   "execution_count": 9,
   "metadata": {},
   "outputs": [
    {
     "name": "stderr",
     "output_type": "stream",
     "text": [
      "USER_AGENT environment variable not set, consider setting it to identify your requests.\n",
      "Created a chunk of size 1077, which is longer than the specified 500\n",
      "Created a chunk of size 1371, which is longer than the specified 500\n",
      "Created a chunk of size 3405, which is longer than the specified 500\n"
     ]
    }
   ],
   "source": [
    "from langchain.document_loaders import WebBaseLoader\n",
    "from langchain.text_splitter import CharacterTextSplitter\n",
    "\n",
    "loader = WebBaseLoader(\n",
    "    [\n",
    "    \"https://www.marca.com/co/2023/10/17/652e070f22601d73648b4585.html\", \n",
    "    \"https://hiraoka.com.pe/blog/post/eliminatorias-sudamericanas-mundial-2026-calendario-partidos-y-fechas\"\n",
    "    ]\n",
    ")\n",
    "data = loader.load()\n",
    "\n",
    "#Genera varios fragmentos de 400 tokens\n",
    "text_splitter = CharacterTextSplitter.from_tiktoken_encoder(\n",
    "    chunk_size = 500, \n",
    "    chunk_overlap = 20\n",
    ")\n",
    "\n",
    "docs = text_splitter.split_documents(data)"
   ]
  },
  {
   "cell_type": "code",
   "execution_count": 10,
   "metadata": {},
   "outputs": [
    {
     "data": {
      "text/plain": [
       "(28,\n",
       " [Document(metadata={'source': 'https://www.marca.com/co/2023/10/17/652e070f22601d73648b4585.html', 'title': 'Tabla de posiciones Eliminatorias Mundial 2026: Clasificación y resultados de la sexta fecha en Sudamérica | Marca', 'description': 'Tras unos cuantos meses de parón de selecciones, y con el 21 de abril como última fecha de las Eliminatorias rumbo al Mundial 2026, la selección nacional regresa a los terrenos de ', 'language': 'es-co'}, page_content='Tabla de posiciones Eliminatorias Mundial 2026: Clasificación y resultados de la sexta fecha en Sudamérica | Marca \\n\\n\\n \\n\\n \\n\\n\\n \\n \\n\\n\\n  \\n\\n\\n \\n\\nEs noticia: Próximo partido Real MadridClasificación Grupo HNorma ocho segundosReal MadridPaíses Bajos - EspańaAsencioJoan GarcíaLamine YamalLakersAl Ain - Juventus dónde verReal Madrid dónde verAlcaraz Munar donde verJuan LebrónBodegaPartidos hoy Mundial de ClubesPC FútbolFerrariPrecio luz hoyClasificación LigaMundial de ClubesFútbol hoy \\n\\nPortada de Marca\\n\\n\\nEdición seleccionada\\nES \\n\\n\\nEdiciones:\\n\\nES (Espańa)\\n\\nEN (English)\\n\\n\\nMX (México)\\n\\n\\nUS (USA)\\n\\nEscoge tu edición de Marca.com favorita\\n\\n\\nSiempre que entres en Marca.com se cargará esta edición\\n\\nES (Espańa)\\n\\n \\n\\nEN (English)\\n\\n \\n\\nMX (México)\\n\\n \\n\\nUS (USA)\\n\\n \\n\\n\\nConfirmar\\n\\nSuscríbete\\n\\nFútbol\\n\\n\\nBaloncesto\\n\\n\\nMotor\\n\\n\\nPolideportivo\\n\\n\\nCoches\\n\\n\\nÚltima hora\\n\\n\\nFantasy\\n\\n\\nAgenda TV\\n\\n\\nMás\\nCerrar\\n\\n21 de marzo\\nde 2024Actualizado a las 16:54 h.\\n\\n \\n\\nMás\\nCerrar\\n\\n\\nCo \\n\\nCompartir en Facebook\\n\\nCompartir en Twitter\\n\\nEnviar por email\\n\\n\\nDestacamos\\n\\n\\nAtletismo\\n\\n\\nBalonmano\\n\\n\\nCiclismo\\n\\n\\nGolf\\n\\n\\nTenis\\n\\n\\nBoxeo\\n\\n\\nOtros deportes\\n\\n\\nAjedrez\\n\\n\\nDeportes Aventura\\n\\n\\nDeportes Invierno\\n\\n\\neSports'),\n",
       "  Document(metadata={'source': 'https://www.marca.com/co/2023/10/17/652e070f22601d73648b4585.html', 'title': 'Tabla de posiciones Eliminatorias Mundial 2026: Clasificación y resultados de la sexta fecha en Sudamérica | Marca', 'description': 'Tras unos cuantos meses de parón de selecciones, y con el 21 de abril como última fecha de las Eliminatorias rumbo al Mundial 2026, la selección nacional regresa a los terrenos de ', 'language': 'es-co'}, page_content='Deportes Aventura\\n\\n\\nDeportes Invierno\\n\\n\\neSports\\n\\n\\nHípica\\n\\n\\nHockey Hierba\\n\\n\\nHockey Patines\\n\\n\\nJuegos Olímpicos\\n\\n\\nJuegos Olímpicos de Invierno\\n\\n\\nMMA\\n\\n\\nNatación\\n\\n\\nNFL\\n\\n\\nNHL\\n\\n\\nOlimpismo\\n\\n\\nPádel\\n\\n\\nParalímpicos\\n\\n\\nRugby\\n\\n\\nTenis de mesa\\n\\n\\nToros\\n\\n\\nTriatlón\\n\\n\\nTurf\\n\\n\\nUFC\\n\\n\\nVela\\n\\n\\nVoleibol\\n\\n\\nWaterpolo'),\n",
       "  Document(metadata={'source': 'https://www.marca.com/co/2023/10/17/652e070f22601d73648b4585.html', 'title': 'Tabla de posiciones Eliminatorias Mundial 2026: Clasificación y resultados de la sexta fecha en Sudamérica | Marca', 'description': 'Tras unos cuantos meses de parón de selecciones, y con el 21 de abril como última fecha de las Eliminatorias rumbo al Mundial 2026, la selección nacional regresa a los terrenos de ', 'language': 'es-co'}, page_content='COLOMBIAColombiaTabla de posiciones Eliminatorias Mundial 2026: Clasificación y resultados de la sexta fecha en SudaméricaTodos los detalles de la tabla de posiciones y los resultados: así quedó la sexta fecha de las Eliminatorias sudamericanasMC\\n21/03/2024\\n-\\n16:54\\nCETCompartir en FacebookCompartir en TwitterCompartir en TelegramCompartir en WhatsappEnviar por emailMostrar comentarios\\nFútbol.\\nColombia vs. Espańa: hora y dónde ver EN VIVO por TV y online el amistoso en LondresTras unos cuantos meses de parón de selecciones, y con el 21 de abril como última fecha de las Eliminatorias rumbo al Mundial 2026, la selección nacional regresa a los terrenos de juego con muchas ganas de demostrar que sigue al 100%. Terminó la espera para poder volver a ver a la Selección Colombia, después de las fechas 5 y 6 de las Eliminatorias al Mundial 2026 con el equipo principal en noviembre pasado, aparte de los amistosos con el equipo alterno de diciembre del 2023. Y ahora, afrontando un reto de primer nivel, los de Néstor Lorenzo jugarán contra Espańa este viernes 22 de marzo. Sin embargo, hemos querido hacer un repaso por la clasificación de las Eliminatorias del Mundial 2026 y las fechas de los siguientes partidos. Eliminatorias Conmebol | Tabla de Posiciones actualArgentina: 15 puntos | +6 D.G.Uruguay: 13 puntos | +8 D.G.Colombia: 12 puntos | +3 D.G.Venezuela: 9 puntos | +3 D.G.Ecuador: 8 puntos | +2 D.G.Brasil: 7 puntos | +1 D.G.Paraguay: 5 puntos | -2 D.G.Chile: 5 puntos | -4 D.G.Bolivia: 3 puntos | -10 D.G.Perú: 2 puntos | -7 D.G.Resultados de la jornada 6 de EliminatoriasParaguay 0-1 ColombiaUruguay 3-0 Bolivia|Ecuador 1-0 ChileBrasil 0-1 ArgentinaPerú 1-1 VenezuelażCómo se jugará la siguiente fecha de Eliminatorias?Fecha 7 | 5/09/2024Uruguay vs. Paraguay | Bolivia vs. Venezuela | Brasil vs. Ecuador | Perú vs. Colombia | Argentina vs. Chile | Fecha 8 | 10/09/2024Colombia vs. Argentina | Ecuador vs. Perú | Paraguay vs. Brasil | Venezuela vs. Uruguay | Chile vs. Bolivia | żCuántos equipos clasifican de Conmebol?El Mundial 2026 que se llevará a cabo en Canadá, EEUU y Méxicotendrá un cambio importante en el numero de equipos. La FIFA confirmó el nuevo formato, que concedará más cupos por cada confederación. Por primera vez en toda la historia lo jugarán 48 selecciones de todo el planeta. Esto cambiará radicalmente el número de representantes por cada confederación. Por el lado de Conmebol, tendrá dos plazas más para esta clasificación al Mundial. Hasta ahora, clasificaban 4 equipos más otro extra que accedía vía repechaje. Con el nuevo formato, clasificarán 6 selecciones más otro extra que podrá entrar vía repechaje.Los cambios darán más adrenalina a las Eliminatorias y más oportunidades. En el caso de Colombia, tendrpa más posibilidades que en la última clasificación en la que quedó eliminado del Mundial por finalizar en el sexto puesto a un punto de poder entrar al repechaje.CO\\nColombiaRenta Ciudadana 2024: Nuevo link para consultar si está en el listado de beneficiarios'),\n",
       "  Document(metadata={'source': 'https://www.marca.com/co/2023/10/17/652e070f22601d73648b4585.html', 'title': 'Tabla de posiciones Eliminatorias Mundial 2026: Clasificación y resultados de la sexta fecha en Sudamérica | Marca', 'description': 'Tras unos cuantos meses de parón de selecciones, y con el 21 de abril como última fecha de las Eliminatorias rumbo al Mundial 2026, la selección nacional regresa a los terrenos de ', 'language': 'es-co'}, page_content='ColombiaDevolución del Iva 2024: żCuándo será el próximo pago y como saber si soy beneficiario en Colombia?\\n\\nColombia\\'La Casa de Los Famosos\\': la pelea inventanda entre Karen y La Segura termina en premio\\nVer enlaces de interés\\nClasificacion Liga\\n\\nFutbol hoy\\n\\nClasificacion Segunda\\n\\nChampions\\n\\nNBA\\n\\nReal Madrid\\n\\nBarça\\n\\nBienestar\\n\\nNoticias más leídas\\nVer más\\n\\nEl frenético viaje de Asencio: de 300.000 euros a 40 millones en 320 días\\n\\n\\nFlorentino Pérez: \"Hemos logrado que la tecnología nos ayude a celebrar esta competición tan bonita y gratis\"\\n\\n\\nBombazo en el deporte mundial: ˇLa familia Buss vende los Lakers!\\n\\n\\nUno a uno del Real Madrid contra el Al Hilal: valoración y comentarios\\n\\n\\nIbon Navarro: ?Estoy seguro que Chus no quería hacer referencia a sus hijos sabiendo mi situación personal?\\n\\n\\nComentariosEsta noticia aún no tiene comentariosDanos tu opiniónComentarMostrar comentariosVolver a la noticia \\'Tabla de posiciones Eliminatorias Mundial 2026: Clasificación y resultados de la sexta fecha en Sudamérica\\' \\n\\nCargando siguiente contenido\\n\\nOtras webs de Unidad Editorial\\n\\nResultados deportivos\\nClasificación LALIGA\\nCalendario LALIGA\\nClasificación Segunda\\nCalendario Champions\\nCalendario F1\\nCalendario MotoGP\\n\\nInformación deportiva\\nLALIGA EA Sports\\nLALIGA Hypermotion\\nLiga F\\nChampions League\\nFórmula 1\\nGaming'),\n",
       "  Document(metadata={'source': 'https://www.marca.com/co/2023/10/17/652e070f22601d73648b4585.html', 'title': 'Tabla de posiciones Eliminatorias Mundial 2026: Clasificación y resultados de la sexta fecha en Sudamérica | Marca', 'description': 'Tras unos cuantos meses de parón de selecciones, y con el 21 de abril como última fecha de las Eliminatorias rumbo al Mundial 2026, la selección nacional regresa a los terrenos de ', 'language': 'es-co'}, page_content='Ocio y Entretenimiento\\nTiramillas\\nBienestar\\nLotería\\nCuídatePlus\\nCooking Recetas\\nComprobar Lotería Navidad 2024\\nTraductor\\n\\n\\nUnidad Editorial\\nUnidad Editorial\\nExpansión\\nEl Mundo\\nModa - Telva\\nEl Mundo América\\nDiario Médico\\nConversor de moneda\\n\\n© Unidad Editorial Información Deportiva, S.L.U. Todos los derechos reservados.\\n\\nPolítica de cookies\\nAdministrar UTIQ\\nConfiguración de cookies\\nPolítica de privacidad\\nTérminos y condiciones de uso\\nCertificado por OJD\\nContacto\\nPublicidad\\nNuestro equipo\\nVenta de contenidos\\nCódigo ético\\n\\nSíguenos en\\n\\nFacebook\\n\\nTwitter\\n\\nInstagram\\n\\nTikTok\\n\\nYoutube\\n\\nRSS\\n\\n\\nEspaña\\n\\n\\nLALIGA EA Sports\\n\\n\\nCalendario\\n\\n\\nClasificación\\n\\n\\nEquipos\\n\\n\\nLiga F\\n\\n\\nCalendario\\n\\n\\nClasificación\\n\\n\\nLALIGA Hypermotion\\n\\n\\nCalendario\\n\\n\\nClasificación\\n\\n\\nEquipos\\n\\n\\nPrimera Federación\\n\\n\\nSegunda Federación\\n\\n\\nTercera Federación\\n\\n\\nCopa del Rey\\n\\n\\nCopa de la Reina\\n\\n\\nMás fútbol\\n\\n\\nSupercopa de Espańa\\n\\n\\nSupercopa de Espańa femenina\\n\\n\\nSelección Española\\n\\n\\nUEFA Nations League\\n\\n\\nSelección Española femenina\\n\\n\\nUEFA Nations League femenina\\n\\n\\nMundial 2023\\n\\n\\nFútbol Sala\\n\\n\\nPremios MARCA\\n\\n\\nInternacional\\n\\n\\nPremier League\\n\\n\\nCalendario\\n\\n\\nClasificación\\n\\n\\nEquipos\\n\\n\\nBundesliga\\n\\n\\nCalendario\\n\\n\\nClasificación\\n\\n\\nEquipos\\n\\n\\nSerie A\\n\\n\\nCalendario\\n\\n\\nClasificación\\n\\n\\nEquipos\\n\\n\\nLigue 1'),\n",
       "  Document(metadata={'source': 'https://www.marca.com/co/2023/10/17/652e070f22601d73648b4585.html', 'title': 'Tabla de posiciones Eliminatorias Mundial 2026: Clasificación y resultados de la sexta fecha en Sudamérica | Marca', 'description': 'Tras unos cuantos meses de parón de selecciones, y con el 21 de abril como última fecha de las Eliminatorias rumbo al Mundial 2026, la selección nacional regresa a los terrenos de ', 'language': 'es-co'}, page_content='Clasificación\\n\\n\\nEquipos\\n\\n\\nLigue 1\\n\\n\\nCalendario\\n\\n\\nClasificación\\n\\n\\nEquipos\\n\\n\\nPrimeira Liga de Portugal\\n\\n\\nCalendario\\n\\n\\nClasificación\\n\\n\\nEquipos\\n\\n\\nLiga Saudí\\n\\n\\nCalendario\\n\\n\\nClasificación\\n\\n\\nChampions League\\n\\n\\nCalendario\\n\\n\\nClasificación\\n\\n\\nEquipos\\n\\n\\nChampions League femenina\\n\\n\\nCalendario\\n\\n\\nClasificación\\n\\n\\nEuropa League\\n\\n\\nCalendario\\n\\n\\nClasificación\\n\\n\\nEquipos\\n\\n\\nConference League\\n\\n\\nCalendario\\n\\n\\nClasificación\\n\\n\\nEquipos\\n\\n\\nYouth League\\n\\n\\nCalendario\\n\\n\\nClasificación\\n\\n\\nSupercopa de Europa\\n\\n\\nCopa Intercontinental\\n\\n\\nMundial de Clubes\\n\\n\\nMundial\\n\\n\\nMundial Femenino 2023\\n\\n\\nMundial Sub 17\\n\\n\\nEURO 2024\\n\\n\\nCopa África\\n\\n\\nAmérica\\n\\n\\nArgentina\\n\\n\\nCalendario\\n\\n\\nClasificación\\n\\n\\nChile\\n\\n\\nCalendario\\n\\n\\nClasificación\\n\\n\\nColombia\\n\\n\\nCalendario\\n\\n\\nClasificación\\n\\n\\nEstados Unidos\\n\\n\\nCalendario\\n\\n\\nClasificación\\n\\n\\nMéxico\\n\\n\\nCalendario\\n\\n\\nClasificación\\n\\n\\nVenezuela\\n\\n\\nCalendario\\n\\n\\nClasificación\\n\\n\\nLeagues Cup\\n\\n\\nCalendario\\n\\n\\nClasificación\\n\\n\\nCONMEBOL Libertadores\\n\\n\\nCalendario\\n\\n\\nClasificación\\n\\n\\nCopa América\\n\\n\\nMás América\\n\\n\\nCampeonato Brasileiro\\n\\n\\nLiga Bolivia\\n\\n\\nParaguayan Primera División\\n\\n\\nPrimera División del Perú\\n\\n\\nSerie A de Ecuador\\n\\n\\nUruguayan Primera División\\n\\n\\nCoches\\n\\n\\nFórmula 1\\n\\n\\nCalendario\\n\\n\\nClasificación de pilotos\\n\\n\\nClasificación de constructores\\n\\n\\nGrandes Premios de Fórmula 1'),\n",
       "  Document(metadata={'source': 'https://www.marca.com/co/2023/10/17/652e070f22601d73648b4585.html', 'title': 'Tabla de posiciones Eliminatorias Mundial 2026: Clasificación y resultados de la sexta fecha en Sudamérica | Marca', 'description': 'Tras unos cuantos meses de parón de selecciones, y con el 21 de abril como última fecha de las Eliminatorias rumbo al Mundial 2026, la selección nacional regresa a los terrenos de ', 'language': 'es-co'}, page_content='Grandes Premios de Fórmula 1\\n\\n\\nAustralia\\n\\n\\nChina\\n\\n\\nJapón\\n\\n\\nBahrein\\n\\n\\nArabia Saudí\\n\\n\\nMiami\\n\\n\\nEmilia Romagna\\n\\n\\nMónaco\\n\\n\\nEspańa\\n\\n\\nCanadá\\n\\n\\nAustria\\n\\n\\nGran Bretańa\\n\\n\\nBélgica\\n\\n\\nHungría\\n\\n\\nPaíses Bajos\\n\\n\\nItalia\\n\\n\\nAzerbaiyán\\n\\n\\nSingapur\\n\\n\\nEstados Unidos\\n\\n\\nMéxico\\n\\n\\nBrasil\\n\\n\\nLas Vegas\\n\\n\\nQatar\\n\\n\\nEmiratos Árabes\\n\\n\\n\\xa0\\n\\n\\nFórmula E\\n\\n\\nRallies\\n\\n\\nCalendario\\n\\n\\nClasificación de pilotos\\n\\n\\nClasificación de equipos\\n\\n\\nDakar\\n\\n\\nWEC\\n\\n\\nIndycar\\n\\n\\n24 Horas de Daytona\\n\\n\\n24 Horas de Le Mans\\n\\n\\nMotos\\n\\n\\nMoto GP\\n\\n\\nCalendario\\n\\n\\nClasificación de pilotos\\n\\n\\nGrandes Premios de Moto GP\\n\\n\\nTailandia\\n\\n\\nArgentina\\n\\n\\nLas Américas\\n\\n\\nQatar\\n\\n\\nEspańa\\n\\n\\nFrancia\\n\\n\\nGran Bretańa\\n\\n\\nAragón\\n\\n\\nItalia\\n\\n\\nPaíses Bajos\\n\\n\\nAlemania\\n\\n\\nRepública Checa\\n\\n\\nAustria\\n\\n\\nHungría\\n\\n\\nCataluńa\\n\\n\\nSan Marino\\n\\n\\nJapón\\n\\n\\nIndonesia\\n\\n\\nAustralia\\n\\n\\nMalasia\\n\\n\\nPortugal\\n\\n\\nValencia\\n\\n\\nModelos de coches\\n\\n\\nPruebas de coches\\n\\n\\nOcio\\n\\n\\nVídeos\\n\\n\\nEspaña\\n\\n\\nLiga Endesa\\n\\n\\nCalendario\\n\\n\\nClasificación\\n\\n\\nLiga Endesa femenina\\n\\n\\nPrimera FEB\\n\\n\\nSegunda FEB\\n\\n\\nCopa del Rey\\n\\n\\nCuadro y resultados\\n\\n\\nSupercopa Endesa\\n\\n\\nCuadro y resultados\\n\\n\\nBasket FEB\\n\\n\\nSelección\\n\\n\\nEuropa\\n\\n\\nEuroliga\\n\\n\\nClasificación\\n\\n\\nCalendario'),\n",
       "  Document(metadata={'source': 'https://www.marca.com/co/2023/10/17/652e070f22601d73648b4585.html', 'title': 'Tabla de posiciones Eliminatorias Mundial 2026: Clasificación y resultados de la sexta fecha en Sudamérica | Marca', 'description': 'Tras unos cuantos meses de parón de selecciones, y con el 21 de abril como última fecha de las Eliminatorias rumbo al Mundial 2026, la selección nacional regresa a los terrenos de ', 'language': 'es-co'}, page_content='Europa\\n\\n\\nEuroliga\\n\\n\\nClasificación\\n\\n\\nCalendario\\n\\n\\nEuroliga femenina\\n\\n\\nEurocup\\n\\n\\nResultados y Clasificación\\n\\n\\nFIBA Champions League\\n\\n\\nResultados y Clasificación\\n\\n\\nInternacional\\n\\n\\nNBA\\n\\n\\nCalendario\\n\\n\\nClasificaciones\\n\\n\\nEquipos\\n\\n\\nMundial 2023\\n\\n\\nCoches y motos\\n\\n\\nCoches\\n\\n\\nMotos\\n\\n\\nTráfico\\n\\n\\nTecnología\\n\\n\\nIndustria\\n\\n\\nSalones del Automóvil\\n\\n\\nFrankfurt\\n\\n\\nShanghái\\n\\n\\nGinebra\\n\\n\\nLos Ángeles\\n\\n\\nParís\\n\\n\\nY además\\n\\n\\nAccesorios'),\n",
       "  Document(metadata={'source': 'https://hiraoka.com.pe/blog/post/eliminatorias-sudamericanas-mundial-2026-calendario-partidos-y-fechas', 'title': '▷ Eliminatorias Mundial 2026: Fixture, calendario y resultados | Experto Hiraoka', 'description': 'Todo lo que debes saber de las Eliminatorias Sudamericanas para el Mundial 2026. Revisa aquí el fixture completo de partidos.', 'language': 'es'}, page_content='▷ Eliminatorias Mundial 2026: Fixture, calendario y resultados | Experto Hiraoka\\n\\n\\n \\n\\n    The store will not work correctly when cookies are disabled.\\n\\nParece que JavaScript está deshabilitado en su navegador.\\n\\n                        For the best experience on our site, be sure to turn on Javascript in your browser.                    \\n\\n\\n \\n\\n¡SOLO OFERTAS! Encuentra las mejores ofertas en laptops para el Trabajo, Estudio o Gamer VER AQUÍ\\n\\n\\n\\r\\n           Si compras antes de la 1:00 pm recibes ¡HOY! tu producto VER COBERTURA\\n\\n\\n¡SOLO OFERTAS! Encuentra las mejores ofertas en laptops para el Trabajo, Estudio o Gamer VER AQUÍ\\n\\n¡SOLO OFERTAS! Encuentra las mejores ofertas en laptops para el Trabajo, Estudio o Gamer VER AQUÍ\\n\\n\\n¡SOLO OFERTAS! Encuentra las mejores ofertas en laptops para el Trabajo, Estudio o Gamer VER AQUÍ\\n\\n\\n        Ir al contenido    \\n\\n \\n\\nFAQ\\n\\nCategorías\\n\\n\\n \\n\\nCerrar'),\n",
       "  Document(metadata={'source': 'https://hiraoka.com.pe/blog/post/eliminatorias-sudamericanas-mundial-2026-calendario-partidos-y-fechas', 'title': '▷ Eliminatorias Mundial 2026: Fixture, calendario y resultados | Experto Hiraoka', 'description': 'Todo lo que debes saber de las Eliminatorias Sudamericanas para el Mundial 2026. Revisa aquí el fixture completo de partidos.', 'language': 'es'}, page_content='TelevisoresTelevisoresSmart TVTelevisores con IA TV 4K Ultra HDFull HDNanoCellOLEDQLEDNeo QLEDTV 8KQNEDCine en CasaSoundbar y Home TheatersBlu-ray y DVDProyectoresAccesoriosAccesorios TVRack para televisorReproductores de contenido digitalCombosElectrohogarElectrodomésticosLicuadorasFreidoras de aireExtractores y ExprimidoresBatidorasCafeterasHervidoresTostadoras y SandwicherasHornos EléctricosOllas ArrocerasOllas a Presión y Cocción LentaDispensadores de aguaMáquinas para Pop CornCuchillos EléctricosParrillasPlanchasBalanza de ReposteríaProcesadores de AlimentosAccesorios ElectrodomésticosPanificadorasRefrigeraciónRefrigeradorasTop FreezerSide By SideBottom freezerFrench doorFrigobaresCongeladoras y ExhibidoresVinerasLavado y LimpiezaLavadorasLavasecasSecadoras de RopaCentro de LavadoAspiradorasLustradorasAspiradoras RobotCocinaCocinas a GasCocinas EléctricasCocinas de PieCocinas de mesaCocinas de InducciónCocinas EmpotrablesCampanas ExtractorasHornos EmpotrablesHornos MicroondasLavaplatosMenajeJuego de OllasOllasTeterasTermosTomatodosSartenesSet de CubiertosLoncherasClimatizaciónAire AcondicionadoVentiladoresDeshumedecedores y Purificadores de aireEstufasRapiduchasTermasCalentadoresAccesoriosMáquinas de coserMáquina de coserMáquina bordadoraMáquina de corteMáquina recubridoraMáquina remalladoraHerramientasIluminaciónPilas y BateríasAccesorios para MascotasCombosCómputo y TecnologíaComputadorasLaptops Laptops GamerWindows Copilot + PCLaptops con IALaptops para Estudiantes TabletsLaptops 2 en 1All In One Tabletas GráficasDesktopImpresoras y TintasImpresorasMultifuncionalesRotuladoresSuministrosPapeleríaFotografíaCámaras DigitalesCámaras DeportivasCámaras InstantáneasCámaras MirrorlessCámaras RéflexCámaras de VideoDronesSmarthomeAsistente de voz AdaptadoresCámaras de SeguridadConvertidor Smart TVEstabilizadoresFocos inteligentesRepetidor WifiRouter WifiOtros accesoriosAccesorios CómputoAudífonos PCCámaras WebCooler para laptopAlmacenamiento internoAlmacenamiento externoMemorias USBMicrófonos PCMonitoresMouseMochilasProgramas para PCSillas GamerTecladosTarjetas de MemoriaParlantes PCStreamerRelojesSmartwatchRelojes DeportivosRelojes CasualesRelojes FormalesRelojes para NiñosRelojes de ParedRelojes de MesaAccesorios FotografíaBateríasEstuchesOtros AccesoriosTrípodesLentesCalculadorasCientíficasDe BolsilloDe EscritorioGraficadorasFinancierasAppleMacMacbook AirMacbook ProiMacMac MiniiPadiPadiPad ProiPad AirApple WatchApple Watch SEApple Watch S8Apple Watch S9Apple Watch S10Apple Watch UltraiPhoneiPhone 13iPhone 14iPhone 15iPhone 16Audio AppleAirPods MaxAirPods CaseEarPodsAccesoriosCelularesCelularesSmartphonesCelulares con IAAccesoriosSmartwatchSmartwatch CasualesSmartwatch DeportivosTeléfonosTeléfono FijoTeléfonos InalámbricosAudio y MúsicaAudífonosInalámbricos y BluetoothOver ear y On earEarbuds y In EarDeportivosHeadset y GamersAppleAudioParlantesOne BodyEquipo de SonidoMinicomponentesControladores para DJGrabadorasRadiosAccesorios AudioMegáfonosCar AudioAutoradiosAmplificadoresParlantesInstrumentos MusicalesÓrganosPianosFlautasMelódicasAccesorios para ÓrganosCombosGamingGamingLaptops GamerAccesorios GamingSillas GamerAudífonos GamerTeclados GamerMouse GamerPads GamerCooler para LaptopMonitores GamerStreamerConsolasConsolas NintendoConsolas PlayStationConsolas XboxConsolas AsusConsolas LenovoVideojuegosPS4PS5NintendoAccesorios de consolasMandosSalud y BienestarCuidado PersonalPlanchas para CabelloAfeitadoraCepillos para CabelloDepiladorasRecortadoresSecadoras de CabelloRizadoresCepillos Dentales EléctricosInstrumental MédicoBalanzasEstetoscopiosGlucómetrosNebulizadoresMasajeadoresTENSTensiómetrosTermómetrosOxímetrosExtractores de lecheAccesorios de SaludTiras ReactivasLancetasDeportesBicimotosMáquinas de deportesEquipos GPSAccesoriosDormitorioColchonesCamasJuego de dormitorioAccesoriosCombosInvierno Calientito'),\n",
       "  Document(metadata={'source': 'https://hiraoka.com.pe/blog/post/eliminatorias-sudamericanas-mundial-2026-calendario-partidos-y-fechas', 'title': '▷ Eliminatorias Mundial 2026: Fixture, calendario y resultados | Experto Hiraoka', 'description': 'Todo lo que debes saber de las Eliminatorias Sudamericanas para el Mundial 2026. Revisa aquí el fixture completo de partidos.', 'language': 'es'}, page_content='Buscar\\n\\n\\nBuscar\\n\\n\\nBuscar\\n\\n\\nIngresa\\n\\n\\nIngresa\\n\\nIngresa\\nCrear cuenta\\n\\n\\nCrear cuenta\\n\\n\\nMi carrito\\n\\n \\n\\n \\n\\n                                Nuestras tiendas                            \\n\\n\\n                                Blog                            \\n\\n\\n                                Cátalogo                            \\n\\n\\n                                OKA                            \\n\\n\\n                                 (01) 680-3800                            \\n\\n\\n                    Hiraoka.com.pe                \\n\\n                    Experto Hiraoka                \\n\\n\\nEliminatorias Mundial 2026: Fixture, calendario y resultados\\n\\n\\nEliminatorias Mundial 2026: Fixture, calendario y resultados'),\n",
       "  Document(metadata={'source': 'https://hiraoka.com.pe/blog/post/eliminatorias-sudamericanas-mundial-2026-calendario-partidos-y-fechas', 'title': '▷ Eliminatorias Mundial 2026: Fixture, calendario y resultados | Experto Hiraoka', 'description': 'Todo lo que debes saber de las Eliminatorias Sudamericanas para el Mundial 2026. Revisa aquí el fixture completo de partidos.', 'language': 'es'}, page_content='Vuelven las Eliminatorias Sudamericanas para el Mundial 2026. La fecha 16 se jugó el martes 10 de junio del 2025. Tras el título de Argentina en la Copa América 2024, las selecciones de América del Sur ya disputan este clasificatorio que ofrece seis plazas y media para la próxima Copa del Mundo.\\nLee también: Tabla de posiciones Eliminatorias 2026\\nLas Eliminatorias Sudamericanas Mundial 2026 figuran entre las competiciones más atractivas y esperadas por los aficionados del fútbol. Por esta razón, toma nota del calendario completo de partidos de las 10 selecciones sudamericanas y vive al máximo todos los encuentros. \\xa0En esta nota te contamos todo lo que debes saber de las clasificatorias para la Copa de la FIFA 2026.\\n\\n\\nEliminatorias Sudamericanas\\xa02026\\n\\nFechas y horarios\\n\\n\\nCuándo empieza\\n\\n\\n7 de septiembre del 2023\\xa0\\n\\n\\nCuánto dura\\n\\n\\nDe septiembre del 2023 a septiembre del 2025\\n\\n\\nCuándo termina\\n\\n\\nSeptiembre del 2025\\n\\nTabla de Contenido'),\n",
       "  Document(metadata={'source': 'https://hiraoka.com.pe/blog/post/eliminatorias-sudamericanas-mundial-2026-calendario-partidos-y-fechas', 'title': '▷ Eliminatorias Mundial 2026: Fixture, calendario y resultados | Experto Hiraoka', 'description': 'Todo lo que debes saber de las Eliminatorias Sudamericanas para el Mundial 2026. Revisa aquí el fixture completo de partidos.', 'language': 'es'}, page_content='Septiembre del 2025\\n\\nTabla de Contenido\\n\\n¿Cuándo empiezan las Eliminatorias Sudamericanas Mundial 2026?\\n¿Cuándo terminan las Eliminatorias Sudamericanas Mundial 2026?\\n¿Cómo será el formato de las Eliminatorias Sudamericanas Mundial 2026?\\n¿Cuál es el fixture de las Eliminatorias del Mundial 2026? \\n¿Cuál es el fixture de la selección peruana en Eliminatorias 2026?\\nEliminatorias Sudamericanas Mundial 2026: Equipos\\n¿Cuántas selecciones clasifican al Mundial 2026?\\n¿Qué canales pasarán las Eliminatorias Sudamericanas 2026 en Perú?\\n¿Cuándo se jugará la Copa América 2024?\\n\\n▷ ¿Cuándo empiezan las Eliminatorias Sudamericanas Mundial 2026?\\nLas Eliminatorias Sudamericanas para el Mundial 2026 arrancaron este 7 de septiembre del 2023. Aunque la fecha prevista era marzo del 2023, el Consejo de la Conmebol confirmó que las clasificatorias se disputen desde septiembre del 2023 con los siguientes partidos:\\xa0 Paraguay 0-0 Perú, Colombia 1-0 Venezuela, Argentina 1-0 Ecuador, Uruguay 3-1 Chile y Brasil 5-1 Bolivia.\\xa0\\n▷ ¿Cuándo terminan las Eliminatorias Sudamericanas Mundial 2026?\\nLas Eliminatorias Sudamericanas rumbo al Mundial 2026, que se disputará en Estados Unidos, México y Canadá, finalizará en\\xa0septiembre del 2025. La última fecha FIFA de las clasificatorias serán los duelos entre Perú vs. Paraguay, Venezuela vs. Colombia, Bolivia vs. Brasil, Chile vs. Uruguay y Ecuador vs. Argentina.'),\n",
       "  Document(metadata={'source': 'https://hiraoka.com.pe/blog/post/eliminatorias-sudamericanas-mundial-2026-calendario-partidos-y-fechas', 'title': '▷ Eliminatorias Mundial 2026: Fixture, calendario y resultados | Experto Hiraoka', 'description': 'Todo lo que debes saber de las Eliminatorias Sudamericanas para el Mundial 2026. Revisa aquí el fixture completo de partidos.', 'language': 'es'}, page_content='▷ ¿Cómo será el formato de las Eliminatorias Sudamericanas Mundial 2026?\\nEl formato de clasificación para el Mundial 2026 no variará en Sudamérica, por lo que mantendrá la modalidad\\xa0 de un grupo único, todos contra todos en dos ruedas de partidos, una de local y otra de visitante, como se viene jugando en las últimas ediciones.\\n\"Cada Selección Nacional jugará 9 partidos de local y tendrá que viajar para disputar también 9 encuentros de visitante, un total de 18 jornadas que se dividen a lo largo de los próximos 3 años\", detalló la Conmebol.\\nEl fixture que se utilizará para las Eliminatorias Sudamericanas será el mismo de la última edición para Qatar 2022, el cual fue definido por sorteo.\\nLee también: Mundial 2026: Cuándo es, dónde se juega, clasificatorias y sedes\\n▷ ¿Cuál es el fixture de las Eliminatorias del Mundial 2026?\\xa0\\nLa\\xa0Conmebol\\xa0anunció el fixture de las\\xa0Eliminatorias Sudamericanas\\xa0al\\xa0Mundial 2026. La fecha 16 se jugará el martes 10 de junio del 2025. Revisa aquí el calendario completo rumbo a la Copa del Mundo 2026:\\nFIXTURE\\n► SEPTIEMBRE 2023\\nFecha 1\\n\\n\\nParaguay 0 - 0 Perú\\xa0 | 07 /09/23 \\xa0\\n\\n\\nColombia 1 - 0 Venezuela | 07 /09/23\\xa0\\n\\n\\nArgentina 1 - 0 Ecuador | 07/09/23\\xa0\\n\\n\\nUruguay 3 - 1 Chile | 08 /09/23\\xa0\\n\\n\\nBrasil 5 - 1 Bolivia | 08 /09/23\\xa0\\n\\n\\nFecha 2\\n\\n\\nBolivia 0 - 3 Argentina\\xa0 | 12 /09/23'),\n",
       "  Document(metadata={'source': 'https://hiraoka.com.pe/blog/post/eliminatorias-sudamericanas-mundial-2026-calendario-partidos-y-fechas', 'title': '▷ Eliminatorias Mundial 2026: Fixture, calendario y resultados | Experto Hiraoka', 'description': 'Todo lo que debes saber de las Eliminatorias Sudamericanas para el Mundial 2026. Revisa aquí el fixture completo de partidos.', 'language': 'es'}, page_content='Bolivia 0 - 3 Argentina\\xa0 | 12 /09/23\\xa0\\n\\n\\nEcuador 2 - 1 Uruguay | 12 /09/23\\xa0\\n\\n\\nVenezuela 1 - 0 Paraguay | 12 /09/23\\xa0\\n\\n\\nChile 0 - 0 Colombia | 12 /09/23\\xa0\\n\\n\\nPerú 0 - 1 Brasil | 12 /09/23\\xa0\\n\\n\\n► OCTUBRE 2023\\nFecha 3\\n\\n\\nColombia 2 - 2 Uruguay |12 /10/23\\xa0\\n\\n\\nBolivia 1 - 2 Ecuador\\xa0 |12 /10/23\\xa0\\n\\n\\nArgentina 1 - 0 Paraguay |12 /10/23\\xa0\\n\\n\\nChile 2 - 0 Perú |12 /10/23\\xa0\\n\\n\\nBrasil 1 - 1 Venezuela |12 /10/23\\xa0\\n\\n\\nFecha 4\\n\\n\\nVenezuela 3 - 0 Chile | 17 /10/23\\xa0\\n\\n\\nParaguay 1 - 0\\xa0 Bolivia |17 /10/23\\xa0\\n\\n\\nEcuador 0 - 0 Colombia |17 /10/23\\xa0\\n\\n\\nUruguay 2 - 0 Brasil\\xa0 |17 /10/23\\xa0\\n\\n\\nPerú 0 - 2 Argentina |17 /10/23\\xa0\\n\\n\\n► NOVIEMBRE 2023\\nFecha 5\\n\\n\\nBolivia 2 - 0 Perú | 16 /11/23\\xa0\\n\\n\\nVenezuela 0 - 0 Ecuador | 16 /11/23\\xa0\\n\\n\\nColombia 2 - 1 Brasil \\xa0| 16 /11/23\\xa0\\n\\n\\nArgentina 0 - 2 Uruguay | 16 /11/23\\xa0\\n\\n\\nChile 0 - 0 Paraguay \\xa0| 16 /11/23\\xa0\\n\\n\\nFecha 6\\n\\n\\nParaguay\\xa0 0 - 1 Colombia | 21 /11/23\\xa0\\n\\n\\nEcuador 1 - 0 Chile | 21 /11/23\\xa0\\n\\n\\nUruguay 3 - 0 Bolivia | 21 /11/23\\xa0\\n\\n\\nBrasil 0 - 1 Argentina | 21 /11/23 \\xa0\\n\\n\\nPerú 1 - 1 Venezuela | 21 /11/23 \\xa0\\n\\n\\n► SEPTIEMBRE 2024\\nFecha 7\\n\\n\\nBolivia 4 - 0 Venezuela | 05 /09/24\\xa0 \\xa0\\n\\n\\nArgentina 3 - 0 Chile | 05 /09/24'),\n",
       "  Document(metadata={'source': 'https://hiraoka.com.pe/blog/post/eliminatorias-sudamericanas-mundial-2026-calendario-partidos-y-fechas', 'title': '▷ Eliminatorias Mundial 2026: Fixture, calendario y resultados | Experto Hiraoka', 'description': 'Todo lo que debes saber de las Eliminatorias Sudamericanas para el Mundial 2026. Revisa aquí el fixture completo de partidos.', 'language': 'es'}, page_content='Argentina 3 - 0 Chile | 05 /09/24\\xa0\\n\\n\\nUruguay 0\\xa0- 0 Paraguay | 06 /09/24\\xa0\\n\\n\\nBrasil 1 - 0 Ecuador | 06 /09/24\\xa0\\n\\n\\nPerú 1 - 1 Colombia | 06 /09/24\\xa0\\n\\n\\nFecha 8\\n\\n\\nColombia 2 - 1 \\xa0Argentina | 10 /09/24\\xa0\\n\\n\\nEcuador 1 - 0\\xa0 Perú | 10 /09/24\\xa0\\n\\n\\nChile 1 - 2\\xa0 Bolivia | 10 /09/24\\xa0\\n\\n\\nVenezuela 0 - 0\\xa0 Uruguay | 10 /09/24\\xa0\\n\\n\\nParaguay 1 - 0\\xa0 Brasil | 10 /09/24\\xa0\\n\\n\\n► OCTUBRE 2024\\nFecha 9\\n\\n\\nBolivia 1 - 0 Colombia\\xa0 |10 /10/24\\xa0\\n\\n\\nVenezuela 1 - 1 Argentina |10 /10/24\\xa0\\n\\n\\nEcuador 0 - 0 Paraguay |10 /10/24\\xa0\\n\\n\\nChile 1 - 2 Brasil |10 /10/24\\xa0\\n\\n\\nPerú 1 - 0 Uruguay | 11 /10/24\\xa0\\n\\n\\nFecha 10\\n\\n\\nColombia 4 - 0 Chile \\xa0|15 /10/24\\xa0\\n\\n\\nParaguay 2 - 1 Venezuela |15 /10/24\\xa0\\n\\n\\nUruguay 0 - 0 Ecuador |15 /10/24\\xa0\\n\\n\\nArgentina 6 - 0 Bolivia |15 /10/24\\xa0\\n\\n\\nBrasil 4 - 0 Perú |15 /10/24\\xa0\\n\\n\\n► NOVIEMBRE 2024\\nFecha 11\\n\\n\\nVenezuela 1 - 1 Brasil | 14 /11/24\\xa0\\n\\n\\nParaguay 2 - 1 Argentina | 14 /11/24\\xa0\\n\\n\\nEcuador 4 - 0 Bolivia | 14 /11/24\\xa0\\n\\n\\nUruguay 3 - 2 Colombia | 15 /11/24\\xa0\\n\\n\\nPerú 0 - 0 \\xa0Chile | 15 /11/24\\xa0\\n\\n\\nFecha 12\\n\\n\\nBolivia 2 - 2 Paraguay | 19 /11/24\\xa0\\n\\n\\nColombia 0 - 1\\xa0Ecuador | 19 /11/24\\n\\n\\nArgentina 1 - 0 Perú | 19 /11/24'),\n",
       "  Document(metadata={'source': 'https://hiraoka.com.pe/blog/post/eliminatorias-sudamericanas-mundial-2026-calendario-partidos-y-fechas', 'title': '▷ Eliminatorias Mundial 2026: Fixture, calendario y resultados | Experto Hiraoka', 'description': 'Todo lo que debes saber de las Eliminatorias Sudamericanas para el Mundial 2026. Revisa aquí el fixture completo de partidos.', 'language': 'es'}, page_content='Argentina 1 - 0 Perú | 19 /11/24\\xa0\\n\\n\\nChile 4 - 2 Venezuela | 19 /11/24\\xa0\\n\\n\\nBrasil 1 - 1\\xa0Uruguay | 19 /11/24\\xa0\\n\\n\\n► MARZO 2025\\nFecha 13\\n\\n\\nParaguay 1 - 0 Chile \\xa0| 20/03/25\\xa0\\n\\n\\nBrasil 2 - 1 Colombia | 20/03/25\\xa0\\n\\n\\nPerú 3 - 1 Bolivia | 20 /03/25\\xa0\\n\\n\\nEcuador 2-1\\xa0 Venezuela | 21 /03/25\\xa0\\n\\n\\nUruguay 0 - 1 Argentina | 21 /03/25\\xa0\\n\\n\\nFecha 14\\n\\n\\nBolivia 0 - 0 Uruguay | 25 /03/25\\xa0\\n\\n\\nChile 0 - 0 Ecuador | 25/03/25\\xa0\\n\\n\\nVenezuela 1 - 0 Perú | 25 /03/25\\xa0\\n\\n\\nColombia 2 - 2 Paraguay | 25 /03/25\\xa0\\n\\n\\nArgentina 4 - 1 Brasil | 25 /03/25\\xa0\\n\\n\\n► JUNIO 2025\\nFecha 15\\n\\n\\nParaguay\\xa0 2 - 0 Uruguay| 05 /06/25\\xa0\\n\\n\\nEcuador\\xa0 0 - 0 Brasil | 05 /06/25\\xa0\\n\\n\\nChile 0 - 1 Argentina | 05 /06/25\\xa0\\n\\n\\nColombia 0 - 0 Perú | 06 /06/25\\xa0\\n\\n\\nVenezuela 2 - 0 Bolivia | 06 /06/25\\xa0\\n\\n\\nFecha 16\\n\\n\\nBolivia 2 - 0 Chile | 10 /06/25\\xa0\\n\\n\\nUruguay\\xa0 2 - 0 Venezuela | 10 /06/25\\xa0\\n\\n\\nArgentina 1 - 1 Colombia | 10 /06/25\\xa0\\n\\n\\nBrasil 1 - 0 Paraguay | 10 /06/25\\xa0\\n\\n\\nPerú 0 - 0 Ecuador | 10 /06/25\\xa0\\n\\n\\n► SEPTIEMBRE 2025\\nFecha 17\\n\\n\\nUruguay - Perú\\n\\n\\nColombia - Bolivia\\n\\n\\nBrasil - Chile\\n\\n\\nParaguay - Ecuador\\n\\n\\nArgentina - Venezuela\\n\\n\\nFecha 18\\n\\n\\nPerú - Paraguay\\n\\n\\nVenezuela - Colombia\\n\\n\\nBolivia - Brasil\\n\\n\\nChile - Uruguay'),\n",
       "  Document(metadata={'source': 'https://hiraoka.com.pe/blog/post/eliminatorias-sudamericanas-mundial-2026-calendario-partidos-y-fechas', 'title': '▷ Eliminatorias Mundial 2026: Fixture, calendario y resultados | Experto Hiraoka', 'description': 'Todo lo que debes saber de las Eliminatorias Sudamericanas para el Mundial 2026. Revisa aquí el fixture completo de partidos.', 'language': 'es'}, page_content='Venezuela - Colombia\\n\\n\\nBolivia - Brasil\\n\\n\\nChile - Uruguay\\n\\n\\nEcuador - Argentina\\n\\n\\n▷ ¿Cuál es el fixture de la selección peruana en Eliminatorias 2026?\\nLa selección peruana enfrentará de local a Bolivia por las \\xa0Eliminatorias Sudamericanas. Luego, le toca visitar a Venezuela. Aquí puedes conocer el detalle del camino de Perú rumbo al Mundial 2026:\\n\\nFecha 1: Paraguay 0 - 0 Perú | 7 septiembre 2023\\xa0\\xa0\\nFecha 2: Perú 0 - 1 Brasil | 12 septiembre 2023\\nFecha 3: Chile 2 - 0 Perú | 12 octubre 2023\\xa0\\nFecha 4: Perú 0 - 2 Argentina |17 octubre 2023\\xa0\\nFecha 5: Bolivia 2 - 0 \\xa0Perú | 16 noviembre 2023\\xa0\\nFecha 6: Perú 1 - 1 Venezuela | 21 noviembre 2023\\xa0\\nFecha 7: Perú 1 - 1 Colombia | 6 septiembre 2024\\xa0\\nFecha 8: Ecuador 1 - 0 Perú | 10 septiembre 2024\\xa0\\nFecha 9: Perú 1 - 0 Uruguay | 11 octubre 2024\\xa0\\nFecha 10: Brasil 4 - 0 Perú | 15 octubre 2024\\xa0\\nFecha 11: Perú 0 - 0 Chile | 15 noviembre 2024\\xa0\\nFecha 12: Argentina 1 - 0 Perú | 19 noviembre 2024\\xa0\\nFecha 13: Perú 3 - 1 Bolivia | 20 de marzo 2025\\xa0\\nFecha 14: Venezuela 1-0 Perú | 25 de marzo 2025\\xa0\\nFecha 15: Colombia 0 - 0 \\xa0Perú | 6 de junio 2025\\xa0\\nFecha 16: Perú 0 - 0 Ecuador | 10 de junio 2025\\xa0\\nFecha 17: Uruguay vs. Perú | septiembre 2025\\nFecha 18: Perú vs. Paraguay | septiembre 2025'),\n",
       "  Document(metadata={'source': 'https://hiraoka.com.pe/blog/post/eliminatorias-sudamericanas-mundial-2026-calendario-partidos-y-fechas', 'title': '▷ Eliminatorias Mundial 2026: Fixture, calendario y resultados | Experto Hiraoka', 'description': 'Todo lo que debes saber de las Eliminatorias Sudamericanas para el Mundial 2026. Revisa aquí el fixture completo de partidos.', 'language': 'es'}, page_content='▷\\xa0Eliminatorias Sudamericanas Mundial 2026: Equipos\\nSon 10 las selecciones de Sudamérica que participarán de las clasificatorias rumbo al Mundial 2026. Estos equipos se enfrentarán en el formato todos contra todos, en partidos de local y visitantes desde septiembre del 2023.\\xa0\\n► Argentina\\n\\nParticipaciones en mundiales: 18\\nÚltimo mundial: Qatar 2022\\nMundiales ganados: 3\\nFigura: Lionel Messi\\n\\n► Bolivia\\n\\nParticipaciones en mundiales: 3\\n\\xa0\\xa0Último mundial: Estados Unidos 1994\\n\\xa0\\xa0Mundiales ganados: 0\\n\\xa0\\xa0Figura: Marcelo Martins\\n\\n► Brasil\\n\\n\\xa0\\xa0Participaciones en mundiales: 22\\n\\xa0\\xa0Último mundial:Qatar 2022\\n\\xa0\\xa0Mundiales ganados: 5\\n\\xa0\\xa0Figura: Neymar\\n\\n► Colombia\\n\\n\\xa0Participaciones en mundiales: 6\\n\\xa0\\xa0Último mundial: Rusia 2018\\n\\xa0\\xa0Mundiales ganados: 0\\n\\xa0\\xa0Figura: James Rodríguez\\n\\n► Chile\\n\\nParticipaciones en mundiales: 9\\n\\xa0\\xa0Último mundial: Brasil 2014\\n\\xa0\\xa0Mundiales ganados: 0\\n\\xa0\\xa0Figura:\\xa0Alexis Sánchez\\xa0\\n\\n► Ecuador\\n\\n\\xa0\\xa0Participaciones en mundiales: 4\\n\\xa0\\xa0Último mundial:Qatar 2022\\n\\xa0\\xa0Mundiales ganados: 0\\n\\xa0\\xa0Figura:Enner Valencia\\n\\n► Perú\\n\\nParticipaciones en mundiales: 5\\n\\xa0\\xa0Último mundial: Rusia 2018\\n\\xa0\\xa0Mundiales ganados: 0\\n\\xa0\\xa0Figura:Gianluca Lapadula\\n\\n► Uruguay\\n\\n\\xa0\\xa0Participaciones en mundiales: 14\\n\\xa0\\xa0Último mundial: Qatar 2022\\n\\xa0\\xa0Mundiales ganados: 2\\n\\xa0\\xa0Figura: Federico Valverde\\n\\n► Venezuela'),\n",
       "  Document(metadata={'source': 'https://hiraoka.com.pe/blog/post/eliminatorias-sudamericanas-mundial-2026-calendario-partidos-y-fechas', 'title': '▷ Eliminatorias Mundial 2026: Fixture, calendario y resultados | Experto Hiraoka', 'description': 'Todo lo que debes saber de las Eliminatorias Sudamericanas para el Mundial 2026. Revisa aquí el fixture completo de partidos.', 'language': 'es'}, page_content='► Venezuela\\n\\nParticipaciones en mundiales: 0\\n\\xa0\\xa0Último mundial: -\\n\\xa0\\xa0Mundiales ganados: -\\n\\xa0\\xa0Figura: Salomón Rondón\\n\\n▷ ¿Cuántas selecciones\\xa0clasifican al Mundial 2026?\\xa0\\nSon\\xa048 equipos los que clasificarán a la próxima edición de la Copa del Mundo\\xa0que se realizará en Estados Unidos, México y Canadá. A partir del 2026, ya no serán 32 sino 48 los equipos que participarán del Mundial, confirmó la FIFA. Por ejemplo, Sudamérica contará con seis plazas y media para el Mundial 2026.\\xa0\\xa0Revisa aquí los cupos para los clasificados de cada confederación:\\n\\nSudamérica:\\xa06 plazas y media\\nAsia:\\xa08 plazas y media\\nÁfrica:\\xa09 plazas y media\\nNorte, Centroamérica y el Caribe:\\xa06 plazas y media\\nEuropa:\\xa016 plazas\\nOceanía:\\xa01 plaza y media\\n\\n▷ ¿Qué canales pasarán las Eliminatorias Sudamericanas 2026\\xa0en Perú?\\nSi quieres ver las Eliminatorias para el Mundial 2026 desde Perú, las señales que transmitirán los partidos de la selección peruana serán ATV (canal 9 y 709 en HD), América Televisión (canal 4 y 704 en HD) y Movistar Deportes (canal 3 y 703 en HD).\\xa0\\n▷ ¿Qué países de Sudamérica ya clasificaron al Mundial 2026?\\nHasta ahora,\\xa0Argentina, Ecuador y Brasil son los países de Sudamérica que han asegurado su clasificación para el Mundial 2026.\\n\\nArgentina\\nEcuador\\nBrasil\\n\\n\\nTambién te puede interesar:'),\n",
       "  Document(metadata={'source': 'https://hiraoka.com.pe/blog/post/eliminatorias-sudamericanas-mundial-2026-calendario-partidos-y-fechas', 'title': '▷ Eliminatorias Mundial 2026: Fixture, calendario y resultados | Experto Hiraoka', 'description': 'Todo lo que debes saber de las Eliminatorias Sudamericanas para el Mundial 2026. Revisa aquí el fixture completo de partidos.', 'language': 'es'}, page_content='También te puede interesar:\\n\\nCopa Libertadores 2025: Calendario, partidos y resultados\\nTabla de posiciones Eliminatorias 2026: resultados\\nTabla de Posiciones Liga 1 Perú 2025: resultados del Torneo Apertura\\nMundial de Clubes 2025: cuándo es, dónde se juega, fechas y equipos\\nMundial 2026: Cuándo es, dónde se juega, clasificatorias y sedes\\nTelevisores OLED vs. QLED: ¿cuál es la mejor tecnología?\\nLas mejores marcas de televisores \\nCómo elegir el televisor ideal para tu hogar \\nCómo ubicar correctamente el televisor en casa\\nCómo instalar un rack para TV\\nCómo limpiar la pantalla de mi televisor Smart TV\\nCómo saber las pulgadas de mi televisor\\nTipos de pantalla TV: LED, OLED, QLED, QNED y Nanocell\\n \\n\\n\\n\\xa0\\n                        Junio 10, 2025                    \\n                                                                |\\n                        \\xa0\\n                            Categories: Experto Hiraoka, News  \\n\\nCompartir este artículo\\n\\nComentarios'),\n",
       "  Document(metadata={'source': 'https://hiraoka.com.pe/blog/post/eliminatorias-sudamericanas-mundial-2026-calendario-partidos-y-fechas', 'title': '▷ Eliminatorias Mundial 2026: Fixture, calendario y resultados | Experto Hiraoka', 'description': 'Todo lo que debes saber de las Eliminatorias Sudamericanas para el Mundial 2026. Revisa aquí el fixture completo de partidos.', 'language': 'es'}, page_content='Compartir este artículo\\n\\nComentarios\\n\\n                                Entrar                            \\n\\n\\nNombre                                                *\\n\\nCorreo electrónico                                                *\\n\\nComentario\\n\\n\\n                                        \\n\\n\\n                                            Enviar                                        \\n\\n\\nAugusto (Guest)\\n\\n\\nUruguay gano 4 mundiales, no 2. Tiene reconocido y aceptado por FIFA las 4 estrellas\\n\\n\\nReply\\n\\n\\nSeptiembre 12, 2023\\n\\n \\n\\nBuscar\\n\\n\\nPopular\\n\\n▷ Mundial Qatar 2022: Calendario completo, partidos, fechas y horarios\\n\\n\\n                                Diciembre 9, 2022                            \\n\\nCómo poner arroba (@) en un teclado de laptop o PC'),\n",
       "  Document(metadata={'source': 'https://hiraoka.com.pe/blog/post/eliminatorias-sudamericanas-mundial-2026-calendario-partidos-y-fechas', 'title': '▷ Eliminatorias Mundial 2026: Fixture, calendario y resultados | Experto Hiraoka', 'description': 'Todo lo que debes saber de las Eliminatorias Sudamericanas para el Mundial 2026. Revisa aquí el fixture completo de partidos.', 'language': 'es'}, page_content='Cómo poner arroba (@) en un teclado de laptop o PC\\n\\n\\n                                Marzo 28, 2025                            \\n\\nTabla de posiciones Eliminatorias 2026: resultados\\n\\n\\n                                Junio 10, 2025                            \\n\\nEliminatorias Mundial 2026: Fixture, calendario y resultados\\n\\n\\n                                Junio 10, 2025                            \\n\\nCopa América 2024: Calendario, partidos, horarios y resultados\\n\\n\\n                                Julio 10, 2024                            \\n\\n\\nÚltimo\\n\\nCopilot+PC:  la nueva generación de laptops Windows con IA \\n\\n\\n                                Junio 18, 2025                            \\n\\nMundial de Clubes 2025: Calendario, partidos, grupos y resultados'),\n",
       "  Document(metadata={'source': 'https://hiraoka.com.pe/blog/post/eliminatorias-sudamericanas-mundial-2026-calendario-partidos-y-fechas', 'title': '▷ Eliminatorias Mundial 2026: Fixture, calendario y resultados | Experto Hiraoka', 'description': 'Todo lo que debes saber de las Eliminatorias Sudamericanas para el Mundial 2026. Revisa aquí el fixture completo de partidos.', 'language': 'es'}, page_content='Junio 18, 2025                            \\n\\n¿Qué debe tener tu mochila de emergencia y cómo prepararla?\\n\\n\\n                                Junio 17, 2025                            \\n\\nTabla de posiciones del Mundial de Clubes 2025: resultados\\n\\n\\n                                Junio 17, 2025                            \\n\\nConsejos para mantener tu casa caliente en invierno\\n\\n\\n                                Junio 16, 2025                            \\n\\n\\nCategorías\\n\\n\\n\\xa0\\xa0Blog\\xa0\\xa0Experto Hiraoka\\xa0\\xa0Cómputo \\xa0\\xa0Tecnología \\xa0\\xa0Electro \\xa0\\xa0Gamer \\xa0\\xa0Bienestar \\xa0\\xa0News \\xa0\\xa0Recetas \\n\\n\\nArchivo Mensual\\n\\n\\xa0\\xa0\\n                                Junio , 2025   (20)'),\n",
       "  Document(metadata={'source': 'https://hiraoka.com.pe/blog/post/eliminatorias-sudamericanas-mundial-2026-calendario-partidos-y-fechas', 'title': '▷ Eliminatorias Mundial 2026: Fixture, calendario y resultados | Experto Hiraoka', 'description': 'Todo lo que debes saber de las Eliminatorias Sudamericanas para el Mundial 2026. Revisa aquí el fixture completo de partidos.', 'language': 'es'}, page_content='Mayo , 2025   (27)                            \\n\\n\\xa0\\xa0\\n                                Abril , 2025   (17)                            \\n\\n\\xa0\\xa0\\n                                Marzo , 2025   (11)                            \\n\\n\\xa0\\xa0\\n                                Febrero , 2025   (12)                            \\n\\n \\n\\nMis favoritos\\n\\nÚltimos elementos añadidos\\n\\nAñadir al carro\\n\\n\\nAñadir al carro\\n\\n\\nRemover este artículo\\n\\n\\nIr a lista de deseos\\n\\nNo tienes ningún elemento en favoritos.\\n\\n\\nEntérate primero de todas nuestras ofertas\\n\\nBoletín informativo\\n\\n\\n \\nInscríbase a nuestro boletín de noticias:\\n\\n\\nSuscribirse\\n\\nAcepto el uso de mi información para fines adicionales'),\n",
       "  Document(metadata={'source': 'https://hiraoka.com.pe/blog/post/eliminatorias-sudamericanas-mundial-2026-calendario-partidos-y-fechas', 'title': '▷ Eliminatorias Mundial 2026: Fixture, calendario y resultados | Experto Hiraoka', 'description': 'Todo lo que debes saber de las Eliminatorias Sudamericanas para el Mundial 2026. Revisa aquí el fixture completo de partidos.', 'language': 'es'}, page_content='CLÁUSULA DE TRATAMIENTO DE DATOS PERSONALES PARA FINES ADICIONALES\\nConforme a lo establecido en la Ley de Protección de Datos Personales – Ley 29733 (en adelante, la “Ley”) en el Decreto Supremo 003-2013/JUS – Reglamento de la Ley (en adelante, el “Reglamento”) y normas conexas, siendo que legalmente en el entorno digital, se considera expresa la manifestación consistente en “hacer clic”, “cliquear”, “pinchar”, “dar un toque”, “touch”, “pad” u otros similares, Usted reconoce que otorga su total consentimiento, libre e informado, a:\\n· IMPORTACIONES HIRAOKA S.A.C. (en adelante, “HIRAOKA”), con RUC N° 20100016681, domiciliado en Avenida Abancay N° 594, distrito Cercado de Lima, provincia y departamento de Lima, Perú; para que, en su calidad de titular del banco de datos personales de administración privada denominado “Usuarios de la Página Web” con Código de Registro N° 17331 en el “Registro Nacional de Protección de Datos Personales”, aprobado mediante Resolución Nº 1155-2015-JUS/DGPDP/DRN.\\n· IH Fintech S.A. (en adelante, “OKA”) con RUC N° 20610782168 y domicilio en Av. Petit Thouars N° 5208, Miraflores, Lima, para que, en su calidad de titular del banco de datos personales de administración privada denominado “Prospecto de Clientes” que está en proceso de inscripción con el código INS-2024-399.\\nPara que HIRAOKA y OKA, realicen el tratamiento de sus siguientes datos personales: nombres y apellidos completos, tipo y número de documento de identidad, correos electrónicos, teléfonos de contacto y dirección domiciliaria (en adelante y de manera conjunta como los “Datos Personales”), que sean otorgados por Usted y/o a los que Usted permita su acceso mediante: (i) el uso del sitio web https://www.hiraoka.com.pe (en adelante, el “Sitio Web”); y/o, (ii) por contacto telefónico.\\nPor ello, la presente Cláusula de Tratamiento de Datos Personales para fines adicionales (en adelante, la “Cláusula”) describe la forma en la que HIRAOKA y OKA tratarán la información de carácter personal que Usted facilite a HIRAOKA y OKA o que sea obtenida con su consentimiento a través del Sitio Web, para los siguientes fines:\\nRespecto de HIRAOKA:\\n(i) Para fines estadísticos e históricos, como el realizar segmentaciones y/o elaborar perfiles con idéntica finalidad promocional o publicitaria, adaptados a su perfil como usuario de los servicios de HIRAOKA;\\n(ii) Utilizar y analizar la información recopilada para administrar, apoyar, mejorar y desarrollar los servicios de HIRAOKA y/o el Sitio Web.\\n(iii) Saber si tiene interés en adquirir alguno de los productos y/o servicios ofertados por HIRAOKA;\\n(iv) Atender de manera idónea solicitudes de información que pueda hacer a HIRAOKA;\\n(v) Enviarle las proformas, presupuestos y características de los productos y/o servicios ofertados por HIRAOKA;\\n(vi) Enviarle periódicamente información relativa a productos y/o servicios promocionados, catálogos, boletines, noticias, ofertas, sorteos y/o campañas comerciales respecto de los productos y/o servicios ofertados por HIRAOKA (incluyendo la Guía de Compras, la misma que tiene una periodicidad mensual) sobre los productos comercializados por HIRAOKA, y sobre las actividades y servicios que desarrolla HIRAOKA, así como de sus aliados comerciales, que incluye a OKA y a otros que ofrezcan sus productos y servicios a través del Sitio Web y/o personas naturales o jurídicas, detalladas en el Sitio Web, que comercialicen u ofrezcan productos y/o servicios que permitan mejorar la oferta de valor destinada a los clientes de HIRAOKA; ya sea por intermedio de sistemas de llamado telefónico, de envío de mensajes de texto a celular, mensajes electrónicos masivos, catálogos físicos a través de courier, o similares.\\n(vii) Transferir sus datos personales a terceros para la realización de las finalidades antes indicadas, en caso aplique. Los detalles del destinatario, el país en que se ubica y la finalidad para la cual se realiza la transferencia se detalla en el Sitio Web.\\nRespecto de OKA:\\n(i) Evaluar tu capacidad de pago y comportamiento en el sistema financiero para generar ofertas de productos financieros de acuerdo con tu perfil crediticio.\\n(ii) Analizar tus datos y poder crear, administrar, ofrecerte y enviarte, a través de canales físicos o digitales (Ej.: Carta al domicilio, llamadas telefónicas, videollamadas, mensajes SMS, mensajería instantánea, WhatsApp, correos electrónicos, redes sociales, entre otros) ofertas comerciales, publicidad, encuestas, invitaciones, funcionalidades e información en general sobre los productos o servicios que brinda OKA y/o sus aliados comerciales detallados en la página web www.oka.com.pe,\\n(iii) Transferir sus datos personales a terceros para la realización de las finalidades antes indicadas, en caso aplique. Los detalles del destinatario, el país en que se ubica y la finalidad para la cual se realiza la transferencia se detalla en www.oka.com.pe.\\nLos Datos Personales serán tratados de conformidad con la normativa peruana sobre protección de datos personales y de comercio electrónico aplicables en cada momento. Asimismo, HIRAOKA y OKA podrán utilizar y analizar la información recopilada para administrar, apoyar, mejorar y desarrollar sus servicios, en lo que les corresponda a cada uno de ellos, y/o el Sitio Web de HIRAOKA.\\nCon esta aceptación, usted manifiesta su total conformidad y consentimiento para que HIRAOKA y OKA traten los Datos Personales proporcionados de acuerdo con los términos establecidos en la presente Cláusula.\\xa0\\nUsted acepta recibir toda información comercial por vía postal, catálogos físicos a través de courier, sistemas de llamado telefónico, correo electrónico, SMS, o cualquier otro medio de comunicación electrónico equivalente.\\nHIRAOKA y OKA tratarán los Datos Personales en todo momento de forma absolutamente confidencial y guardando el preceptivo deber de secreto respecto de los mismos, de conformidad con lo previsto, adoptando al efecto las medidas de índole técnica y organizativas necesarias que garanticen la seguridad de dichos datos y eviten su alteración, pérdida, tratamiento o acceso no autorizado.Finalmente, Usted declara tener pleno conocimiento de:\\n(i) La existencia de los bancos de datos personales de titularidad de HIRAOKA y OKA en los que se almacenarán los Datos Personales, cuyas oficinas se encuentran ubicadas en Avenida Abancay N° 594, distrito de Cercado de Lima, provincia y departamento de Lima, Perú y Av. Petit Thouars N° 5208, distrito de Miraflores, provincia y departamento de Lima, Perú, respectivamente;\\n(ii) Las consecuencias legales de otorgar su consentimiento para el tratamiento de los Datos Personales conforme a la Cláusula y la posibilidad de revocar el mismo para lo cual podrá enviar un correo electrónico con su solicitud a la siguiente dirección electrónica: servicioalcliente@hiraoka.com.pe , en el caso de HIRAOKA, y protegemostusdatos@oka.com.pe, en el caso de OKA, y/o acercarse a las siguientes direcciones físicas: (i) para el caso de HIRAOKA: Avenida Abancay N° 594, distrito de Cercado de Lima, provincia y departamento de Lima, Perú; y, (ii) para el caso de OKA: Av. Petit Thouars N° 5208, distrito de Miraflores, provincia y departamento de Lima, Perú;\\n(iv) Que en caso no otorgue su consentimiento, no será posible cumplir con las finalidades descritas en la presente Cláusula. Del mismo modo, es importante para nosotros manifestarle que su negativa a otorgar su consentimiento no representará un impedimento para que Usted pueda libremente hacer uso del Sitio Web y/o adquirir productos y servicios de Hiraoka y OKA.\\xa0\\n(v) Del tiempo durante el cual los Datos Personales serán conservados, el cual, para HIRAOKA, no excederá los diez (10) años contados desde la última vez que haya ingresado a la plataforma de HIRAOKA a través de su usuario y contraseña; mientras que para el caso de OKA, tendrá una vigencia máxima de diez (10) años, contados a partir de su fecha de autorización y/o hasta que revoque su autorización; y,\\xa0\\n(vi) La posibilidad de ejercer los derechos que la Ley y el Reglamento le conceden, los cuales se enumeran a continuación: (a) derecho de información; (b) derecho de acceso; (c) derecho de actualización, inclusión, rectificación y supresión; (d) derecho a impedir el suministro; (e) derecho de oposición; (f) derecho al tratamiento objetivo; (g) derecho a la tutela; y, (h) derecho a ser indemnizado. Para ejercer los derechos, en el caso de HIRAOKA, deberá dirigir una comunicación/solicitud escrita al Responsable de Seguridad de la Información de HIRAOKA a la siguiente dirección electrónica: servicioalcliente@hiraoka.com.pe y/o acercarse a la siguiente dirección física: Avenida Abancay N° 594, distrito de Cercado de Lima, provincia y departamento de Lima, Perú. Mientras que, para el caso de OKA, puede ejercer sus derechos ARCO mediante el envío de un correo electrónico a protegemostusdatos@oka.com.pe, pudiendo consultar mayor detalle sobre la Política de Privacidad y procedimientos en www.oka.com.pe o a través de sus canales de atención al cliente.\\nFinalmente, de considerar que no ha sido atendido en el ejercicio de sus derechos puede presentar una reclamación ante la Autoridad Nacional de Protección de Datos Personales, dirigiéndose a la Mesa de Partes del Ministerio de Justicia y Derechos Humanos: Calle Scipion Llona 350, Miraflores, Lima, Perú llenando el formulario publicado en el siguiente enlace https://www.minjus.gob.pe/wp-content/uploads/2018/12/FORMULARIO-DE-PROCEDIMIENTO-TRILATERAL-DE-TUTELA.pdf'),\n",
       "  Document(metadata={'source': 'https://hiraoka.com.pe/blog/post/eliminatorias-sudamericanas-mundial-2026-calendario-partidos-y-fechas', 'title': '▷ Eliminatorias Mundial 2026: Fixture, calendario y resultados | Experto Hiraoka', 'description': 'Todo lo que debes saber de las Eliminatorias Sudamericanas para el Mundial 2026. Revisa aquí el fixture completo de partidos.', 'language': 'es'}, page_content='Canales oficiales\\n\\n\\nBúsquedas populares\\nLaptop\\nImpresoras\\nFreidora de aire\\xa0\\nTelevisores\\nRefrigeradoras\\nHornos Microondas\\xa0\\nSmart TV\\nAudífonos\\nCelulares\\nCocinas a gas\\nLavadoras\\nDeshumedecedores\\nIphone\\nApple\\nLaptops gamer\\nVentiladores\\nAire acondicionado\\xa0\\nFrigobar\\xa0\\nMiray\\nCyber Days\\nCyber Wow\\xa0\\nBlack Friday\\xa0\\n\\nINFORMACIÓN PARA EL CLIENTE\\n\\n\\nQuiénes Somos\\nCómo comprar\\nPreguntas Frecuentes\\nAtención al Cliente\\nConsulta con el Experto Hiraoka\\nTérminos y Condiciones\\n\\nTérminos y Condiciones OKA\\nPolíticas de Protección de Datos Personales\\nFines Adicionales\\nCambios y Devoluciones\\nConsultar Comprobante Electrónico\\nGarantia Extendida\\nServicio Técnico\\nLibro de Reclamaciones\\nContáctanos\\nNuestras tiendas\\nDelivery a playas 2025\\nMedidas Preventivas Covid-19\\nSorteo día del Padre\\nSorteo Casio\\n\\nSorteo de Aniversario 2024\\nGestión RAEE\\nPaga tu Crédito OKA Aquí\\nSorteo OKA\\n\\n\\nNUESTRAS TIENDAS\\n\\n\\nMiraflores\\nSan Miguel\\nCentro de lima\\nIndependencia\\n\\n\\nMARCAS\\n\\n\\nLG Xboom\\nIntel\\nAmd\\nNvidia\\nHP\\nApple\\nLogitech\\nLenovo\\nHisense\\n\\n\\nEVENTOS\\n\\n\\nCalendario Gastronómico\\nCalendario de Fútbol\\n\\n\\nVENTAS COPORATIVAS\\n\\xa0\\n\\n\\nGESTIÓN DE CUENTA\\n\\n\\nMi Cuenta\\nRegístrate\\nActualizar Datos\\nCambio de Clave\\nRecordar Clave\\n\\nControl de Suscripciones\\n\\n\\nPROMOCIONES'),\n",
       "  Document(metadata={'source': 'https://hiraoka.com.pe/blog/post/eliminatorias-sudamericanas-mundial-2026-calendario-partidos-y-fechas', 'title': '▷ Eliminatorias Mundial 2026: Fixture, calendario y resultados | Experto Hiraoka', 'description': 'Todo lo que debes saber de las Eliminatorias Sudamericanas para el Mundial 2026. Revisa aquí el fixture completo de partidos.', 'language': 'es'}, page_content='Control de Suscripciones\\n\\n\\nPROMOCIONES\\n\\n\\nCatálogo Hiraoka\\nDía del Padre 2025\\nCyber Wow\\nCyber Days\\nBlack Friday\\n\\n\\nREPARTO A PROVINCIAS\\n\\n\\nAncash\\nArequipa\\nAyacucho\\nChiclayo\\nCusco\\nHuancayo\\nIca\\n\\n\\nMoquegua\\nPiura\\nPuno\\nTacna\\nTumbes\\nTrujillo\\n\\n\\nBENEFICIOS PARA EL CLIENTE\\n\\n\\nTarjeta Interbank\\nPaga con Izipay\\nPagoEfectivo\\nCrédito OKA\\n\\n\\nGUÍA DE COMPRA\\n\\n\\nLas mejores marcas de televisores\\nLas mejores marcas de celulares\\nLas mejores marcas de laptops\\nLas mejores marcas de lavadoras\\nLas mejores marcas de refrigeradoras\\nLas mejores marcas de frigobares\\nLas mejores marcas de cocinas\\nLas mejores marcas de licuadoras\\nLas mejores marcas de freidoras de aire\\nLas mejores marcas de impresoras\\nLas mejores marcas de tablets\\nLas mejores marcas de audífonos\\nLas mejores marcas de audio premium\\nLas mejores marcas de equipos de sonido\\nLas mejores parlantes Bluetooth\\nLas mejores marcas de monitores\\nLas mejores marcas de teclados\\nLas mejores marcas de mouse\\nLas mejores marcas de cámaras de seguridad\\n\\n\\nMEDIOS DE PAGO\\n\\n\\nLIBRO DE RECLAMACIONES\\n\\n\\nLEGAL\\n\\n@Hiraoka 2025 Privacidad Términos y condiciones\\nImportaciones Hiraoka S.A.C. RUC N°: 20100016681\\n\\nHiraoka')])"
      ]
     },
     "execution_count": 10,
     "metadata": {},
     "output_type": "execute_result"
    }
   ],
   "source": [
    "len(docs), docs"
   ]
  },
  {
   "cell_type": "code",
   "execution_count": 11,
   "metadata": {},
   "outputs": [],
   "source": [
    "os.environ[\"OPENAI_API_KEY\"] = getpass.getpass(\"Ingrese la API Key de OpenAI : \")"
   ]
  },
  {
   "cell_type": "markdown",
   "metadata": {},
   "source": [
    "## Cargando datos a Pinecone"
   ]
  },
  {
   "cell_type": "code",
   "execution_count": 13,
   "metadata": {},
   "outputs": [
    {
     "name": "stdout",
     "output_type": "stream",
     "text": [
      "Collecting openai\n",
      "  Downloading openai-1.88.0-py3-none-any.whl.metadata (25 kB)\n",
      "Requirement already satisfied: anyio<5,>=3.5.0 in /home/codespace/.local/lib/python3.12/site-packages (from openai) (4.9.0)\n",
      "Collecting distro<2,>=1.7.0 (from openai)\n",
      "  Downloading distro-1.9.0-py3-none-any.whl.metadata (6.8 kB)\n",
      "Requirement already satisfied: httpx<1,>=0.23.0 in /home/codespace/.local/lib/python3.12/site-packages (from openai) (0.28.1)\n",
      "Collecting jiter<1,>=0.4.0 (from openai)\n",
      "  Downloading jiter-0.10.0-cp312-cp312-manylinux_2_17_x86_64.manylinux2014_x86_64.whl.metadata (5.2 kB)\n",
      "Requirement already satisfied: pydantic<3,>=1.9.0 in /usr/local/python/3.12.1/lib/python3.12/site-packages (from openai) (2.11.7)\n",
      "Requirement already satisfied: sniffio in /home/codespace/.local/lib/python3.12/site-packages (from openai) (1.3.1)\n",
      "Collecting tqdm>4 (from openai)\n",
      "  Downloading tqdm-4.67.1-py3-none-any.whl.metadata (57 kB)\n",
      "Requirement already satisfied: typing-extensions<5,>=4.11 in /home/codespace/.local/lib/python3.12/site-packages (from openai) (4.13.2)\n",
      "Requirement already satisfied: idna>=2.8 in /home/codespace/.local/lib/python3.12/site-packages (from anyio<5,>=3.5.0->openai) (3.10)\n",
      "Requirement already satisfied: certifi in /home/codespace/.local/lib/python3.12/site-packages (from httpx<1,>=0.23.0->openai) (2025.4.26)\n",
      "Requirement already satisfied: httpcore==1.* in /home/codespace/.local/lib/python3.12/site-packages (from httpx<1,>=0.23.0->openai) (1.0.9)\n",
      "Requirement already satisfied: h11>=0.16 in /home/codespace/.local/lib/python3.12/site-packages (from httpcore==1.*->httpx<1,>=0.23.0->openai) (0.16.0)\n",
      "Requirement already satisfied: annotated-types>=0.6.0 in /usr/local/python/3.12.1/lib/python3.12/site-packages (from pydantic<3,>=1.9.0->openai) (0.7.0)\n",
      "Requirement already satisfied: pydantic-core==2.33.2 in /usr/local/python/3.12.1/lib/python3.12/site-packages (from pydantic<3,>=1.9.0->openai) (2.33.2)\n",
      "Requirement already satisfied: typing-inspection>=0.4.0 in /usr/local/python/3.12.1/lib/python3.12/site-packages (from pydantic<3,>=1.9.0->openai) (0.4.1)\n",
      "Downloading openai-1.88.0-py3-none-any.whl (734 kB)\n",
      "\u001b[2K   \u001b[90m━━━━━━━━━━━━━━━━━━━━━━━━━━━━━━━━━━━━━━━━\u001b[0m \u001b[32m734.3/734.3 kB\u001b[0m \u001b[31m21.5 MB/s\u001b[0m eta \u001b[36m0:00:00\u001b[0m\n",
      "\u001b[?25hDownloading distro-1.9.0-py3-none-any.whl (20 kB)\n",
      "Downloading jiter-0.10.0-cp312-cp312-manylinux_2_17_x86_64.manylinux2014_x86_64.whl (352 kB)\n",
      "Downloading tqdm-4.67.1-py3-none-any.whl (78 kB)\n",
      "Installing collected packages: tqdm, jiter, distro, openai\n",
      "\u001b[2K   \u001b[90m━━━━━━━━━━━━━━━━━━━━━━━━━━━━━━━━━━━━━━━━\u001b[0m \u001b[32m4/4\u001b[0m [openai]2m3/4\u001b[0m [openai]\n",
      "\u001b[1A\u001b[2KSuccessfully installed distro-1.9.0 jiter-0.10.0 openai-1.88.0 tqdm-4.67.1\n"
     ]
    }
   ],
   "source": [
    "!pip install openai"
   ]
  },
  {
   "cell_type": "code",
   "execution_count": 14,
   "metadata": {},
   "outputs": [
    {
     "name": "stdout",
     "output_type": "stream",
     "text": [
      "✅ Documentos insertados en Pinecone.\n"
     ]
    }
   ],
   "source": [
    "from langchain.embeddings.openai import OpenAIEmbeddings\n",
    "from pinecone import Pinecone as PineconeClient\n",
    "from uuid import uuid4\n",
    "\n",
    "# Inicializa Pinecone v3\n",
    "api_key = getpass.getpass(\"Ingresa tu API Key de Pinecone : \")\n",
    "index_name = \"knowledge-base-eliminatorias\"\n",
    "pc = PineconeClient(api_key=api_key)\n",
    "index = pc.Index(index_name)\n",
    "\n",
    "# Embeddings\n",
    "embedder = OpenAIEmbeddings()\n",
    "texts = [doc.page_content for doc in docs]\n",
    "metadatas = [doc.metadata for doc in docs]\n",
    "\n",
    "# Embed y subir\n",
    "vectors = []\n",
    "for i, text in enumerate(texts):\n",
    "    embedding = embedder.embed_query(text)\n",
    "    vectors.append({\n",
    "        \"id\": str(uuid4()),\n",
    "        \"values\": embedding,\n",
    "        \"metadata\": metadatas[i] if i < len(metadatas) else {}\n",
    "    })\n",
    "\n",
    "index.upsert(vectors=vectors)\n",
    "print(\"✅ Documentos insertados en Pinecone.\")\n"
   ]
  }
 ],
 "metadata": {
  "kernelspec": {
   "display_name": "Python 3",
   "language": "python",
   "name": "python3"
  },
  "language_info": {
   "codemirror_mode": {
    "name": "ipython",
    "version": 3
   },
   "file_extension": ".py",
   "mimetype": "text/x-python",
   "name": "python",
   "nbconvert_exporter": "python",
   "pygments_lexer": "ipython3",
   "version": "3.12.1"
  }
 },
 "nbformat": 4,
 "nbformat_minor": 2
}
