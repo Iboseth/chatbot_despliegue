{
 "cells": [
  {
   "cell_type": "markdown",
   "metadata": {},
   "source": [
    "# Ingestando embeddings a Pinecone"
   ]
  },
  {
   "cell_type": "code",
   "execution_count": 20,
   "metadata": {},
   "outputs": [],
   "source": [
    "%%capture\n",
    "!pip install pinecone\n",
    "!pip install tiktoken"
   ]
  },
  {
   "cell_type": "code",
   "execution_count": null,
   "metadata": {},
   "outputs": [],
   "source": [
    "# import pinecone\n",
    "from pinecone import Pinecone, ServerlessSpec\n",
    "import os, getpass\n",
    "import tiktoken"
   ]
  },
  {
   "cell_type": "code",
   "execution_count": null,
   "metadata": {},
   "outputs": [],
   "source": [
    "api_key = getpass.getpass(\"Ingresa tu API Key de Pinecone : \")"
   ]
  },
  {
   "cell_type": "markdown",
   "metadata": {},
   "source": [
    "## Creando un index en Pinecone"
   ]
  },
  {
   "cell_type": "code",
   "execution_count": null,
   "metadata": {},
   "outputs": [],
   "source": [
    "index_name = \"knowledge-base-eliminatorias\"\n",
    "dimension = 1536\n",
    "\n",
    "# Conectarse con la única región permitida\n",
    "pc = Pinecone(api_key=api_key)\n",
    "\n",
    "if index_name not in [idx.name for idx in pc.list_indexes()]:\n",
    "    pc.create_index(\n",
    "        name=index_name,\n",
    "        dimension=dimension,\n",
    "        metric=\"cosine\",\n",
    "        spec=ServerlessSpec(\n",
    "            cloud=\"aws\",          # ✅ Solo AWS\n",
    "            region=\"us-east-1\"    # ✅ Solo us-east-1\n",
    "        )\n",
    "    )\n",
    "    print(f\"✅ Índice '{index_name}' creado correctamente.\")\n",
    "else:\n",
    "    print(f\"ℹ️ El índice '{index_name}' ya existe.\")\n"
   ]
  },
  {
   "cell_type": "markdown",
   "metadata": {},
   "source": [
    "## Generando fragmentos de sitios web"
   ]
  },
  {
   "cell_type": "markdown",
   "metadata": {},
   "source": [
    "![Imagen](https://imgmedia.larepublica.pe/640x371/larepublica/original/2023/10/17/652f24917388f967a923a805.webp)"
   ]
  },
  {
   "cell_type": "code",
   "execution_count": null,
   "metadata": {},
   "outputs": [],
   "source": [
    "from langchain.document_loaders import WebBaseLoader\n",
    "from langchain.text_splitter import CharacterTextSplitter\n",
    "\n",
    "loader = WebBaseLoader(\n",
    "    [\n",
    "    \"https://www.marca.com/co/2023/10/17/652e070f22601d73648b4585.html\", \n",
    "    \"https://hiraoka.com.pe/blog/post/eliminatorias-sudamericanas-mundial-2026-calendario-partidos-y-fechas\"\n",
    "    ]\n",
    ")\n",
    "data = loader.load()\n",
    "\n",
    "#Genera varios fragmentos de 400 tokens\n",
    "text_splitter = CharacterTextSplitter.from_tiktoken_encoder(\n",
    "    chunk_size = 500, \n",
    "    chunk_overlap = 20\n",
    ")\n",
    "\n",
    "docs = text_splitter.split_documents(data)"
   ]
  },
  {
   "cell_type": "code",
   "execution_count": null,
   "metadata": {},
   "outputs": [],
   "source": [
    "len(docs), docs"
   ]
  },
  {
   "cell_type": "code",
   "execution_count": null,
   "metadata": {},
   "outputs": [],
   "source": [
    "os.environ[\"OPENAI_API_KEY\"] = getpass.getpass(\"Ingrese la API Key de OpenAI : \")"
   ]
  },
  {
   "cell_type": "markdown",
   "metadata": {},
   "source": [
    "## Cargando datos a Pinecone"
   ]
  },
  {
   "cell_type": "code",
   "execution_count": null,
   "metadata": {},
   "outputs": [],
   "source": [
    "from langchain.embeddings.openai import OpenAIEmbeddings\n",
    "from pinecone import Pinecone as PineconeClient\n",
    "from uuid import uuid4\n",
    "\n",
    "# Inicializa Pinecone v3\n",
    "api_key = getpass.getpass(\"Ingresa tu API Key de Pinecone : \")\n",
    "index_name = \"knowledge-base-eliminatorias\"\n",
    "pc = PineconeClient(api_key=api_key)\n",
    "index = pc.Index(index_name)\n",
    "\n",
    "# Embeddings\n",
    "embedder = OpenAIEmbeddings()\n",
    "texts = [doc.page_content for doc in docs]\n",
    "metadatas = [doc.metadata for doc in docs]\n",
    "\n",
    "# Embed y subir\n",
    "vectors = []\n",
    "for i, text in enumerate(texts):\n",
    "    embedding = embedder.embed_query(text)\n",
    "    vectors.append({\n",
    "        \"id\": str(uuid4()),\n",
    "        \"values\": embedding,\n",
    "        \"metadata\": metadatas[i] if i < len(metadatas) else {}\n",
    "    })\n",
    "\n",
    "index.upsert(vectors=vectors)\n",
    "print(\"✅ Documentos insertados en Pinecone.\")\n"
   ]
  }
 ],
 "metadata": {
  "kernelspec": {
   "display_name": "Python 3",
   "language": "python",
   "name": "python3"
  },
  "language_info": {
   "codemirror_mode": {
    "name": "ipython",
    "version": 3
   },
   "file_extension": ".py",
   "mimetype": "text/x-python",
   "name": "python",
   "nbconvert_exporter": "python",
   "pygments_lexer": "ipython3",
   "version": "3.12.1"
  }
 },
 "nbformat": 4,
 "nbformat_minor": 2
}
